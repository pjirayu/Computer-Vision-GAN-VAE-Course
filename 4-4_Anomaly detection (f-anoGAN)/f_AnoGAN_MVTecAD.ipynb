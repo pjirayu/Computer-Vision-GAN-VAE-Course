{
  "nbformat": 4,
  "nbformat_minor": 0,
  "metadata": {
    "colab": {
      "name": "f_AnoGAN_MVTecAD.ipynb",
      "provenance": [],
      "collapsed_sections": [],
      "toc_visible": true
    },
    "kernelspec": {
      "name": "python3",
      "display_name": "Python 3"
    },
    "accelerator": "GPU"
  },
  "cells": [
    {
      "cell_type": "markdown",
      "metadata": {
        "id": "boKH-5AvWTrh"
      },
      "source": [
        "# f-AnoGAN for trainig the MVTec Anomaly Detection Dataset"
      ]
    },
    {
      "cell_type": "markdown",
      "metadata": {
        "id": "YgYbw6RsWoSK"
      },
      "source": [
        "### Step: 0"
      ]
    },
    {
      "cell_type": "markdown",
      "metadata": {
        "id": "LeWMvqBPWr_J"
      },
      "source": [
        "Please push \"Open in playground\" and run below in order."
      ]
    },
    {
      "cell_type": "code",
      "metadata": {
        "id": "STKRUZa2WuI4",
        "colab": {
          "base_uri": "https://localhost:8080/"
        },
        "outputId": "a3062d33-77e1-4704-8608-0dfceccffbeb"
      },
      "source": [
        "!git clone https://github.com/A03ki/f-AnoGAN.git"
      ],
      "execution_count": 1,
      "outputs": [
        {
          "output_type": "stream",
          "text": [
            "Cloning into 'f-AnoGAN'...\n",
            "remote: Enumerating objects: 194, done.\u001b[K\n",
            "remote: Counting objects: 100% (194/194), done.\u001b[K\n",
            "remote: Compressing objects: 100% (125/125), done.\u001b[K\n",
            "remote: Total 194 (delta 108), reused 139 (delta 67), pack-reused 0\u001b[K\n",
            "Receiving objects: 100% (194/194), 220.66 KiB | 10.03 MiB/s, done.\n",
            "Resolving deltas: 100% (108/108), done.\n"
          ],
          "name": "stdout"
        }
      ]
    },
    {
      "cell_type": "code",
      "metadata": {
        "id": "hduyhrAS3lyP",
        "colab": {
          "base_uri": "https://localhost:8080/"
        },
        "outputId": "9804510d-1eac-4e54-e3b1-f2f86f00add7"
      },
      "source": [
        "%cd f-AnoGAN"
      ],
      "execution_count": 2,
      "outputs": [
        {
          "output_type": "stream",
          "text": [
            "/content/f-AnoGAN\n"
          ],
          "name": "stdout"
        }
      ]
    },
    {
      "cell_type": "code",
      "metadata": {
        "id": "2J8NbIS53qlx",
        "colab": {
          "base_uri": "https://localhost:8080/"
        },
        "outputId": "180666ec-3041-4b99-fa10-c8dbe1153a12"
      },
      "source": [
        "!python setup.py install"
      ],
      "execution_count": 3,
      "outputs": [
        {
          "output_type": "stream",
          "text": [
            "running install\n",
            "running bdist_egg\n",
            "running egg_info\n",
            "creating fanogan.egg-info\n",
            "writing fanogan.egg-info/PKG-INFO\n",
            "writing dependency_links to fanogan.egg-info/dependency_links.txt\n",
            "writing requirements to fanogan.egg-info/requires.txt\n",
            "writing top-level names to fanogan.egg-info/top_level.txt\n",
            "writing manifest file 'fanogan.egg-info/SOURCES.txt'\n",
            "adding license file 'LICENSE' (matched pattern 'LICEN[CS]E*')\n",
            "writing manifest file 'fanogan.egg-info/SOURCES.txt'\n",
            "installing library code to build/bdist.linux-x86_64/egg\n",
            "running install_lib\n",
            "running build_py\n",
            "creating build\n",
            "creating build/lib\n",
            "creating build/lib/fanogan\n",
            "copying fanogan/__init__.py -> build/lib/fanogan\n",
            "copying fanogan/train_encoder_izif.py -> build/lib/fanogan\n",
            "copying fanogan/test_anomaly_detection.py -> build/lib/fanogan\n",
            "copying fanogan/save_compared_images.py -> build/lib/fanogan\n",
            "copying fanogan/train_wgangp.py -> build/lib/fanogan\n",
            "creating build/bdist.linux-x86_64\n",
            "creating build/bdist.linux-x86_64/egg\n",
            "creating build/bdist.linux-x86_64/egg/fanogan\n",
            "copying build/lib/fanogan/__init__.py -> build/bdist.linux-x86_64/egg/fanogan\n",
            "copying build/lib/fanogan/train_encoder_izif.py -> build/bdist.linux-x86_64/egg/fanogan\n",
            "copying build/lib/fanogan/test_anomaly_detection.py -> build/bdist.linux-x86_64/egg/fanogan\n",
            "copying build/lib/fanogan/save_compared_images.py -> build/bdist.linux-x86_64/egg/fanogan\n",
            "copying build/lib/fanogan/train_wgangp.py -> build/bdist.linux-x86_64/egg/fanogan\n",
            "byte-compiling build/bdist.linux-x86_64/egg/fanogan/__init__.py to __init__.cpython-37.pyc\n",
            "byte-compiling build/bdist.linux-x86_64/egg/fanogan/train_encoder_izif.py to train_encoder_izif.cpython-37.pyc\n",
            "byte-compiling build/bdist.linux-x86_64/egg/fanogan/test_anomaly_detection.py to test_anomaly_detection.cpython-37.pyc\n",
            "byte-compiling build/bdist.linux-x86_64/egg/fanogan/save_compared_images.py to save_compared_images.cpython-37.pyc\n",
            "byte-compiling build/bdist.linux-x86_64/egg/fanogan/train_wgangp.py to train_wgangp.cpython-37.pyc\n",
            "creating build/bdist.linux-x86_64/egg/EGG-INFO\n",
            "copying fanogan.egg-info/PKG-INFO -> build/bdist.linux-x86_64/egg/EGG-INFO\n",
            "copying fanogan.egg-info/SOURCES.txt -> build/bdist.linux-x86_64/egg/EGG-INFO\n",
            "copying fanogan.egg-info/dependency_links.txt -> build/bdist.linux-x86_64/egg/EGG-INFO\n",
            "copying fanogan.egg-info/requires.txt -> build/bdist.linux-x86_64/egg/EGG-INFO\n",
            "copying fanogan.egg-info/top_level.txt -> build/bdist.linux-x86_64/egg/EGG-INFO\n",
            "zip_safe flag not set; analyzing archive contents...\n",
            "creating dist\n",
            "creating 'dist/fanogan-0.0.1-py3.7.egg' and adding 'build/bdist.linux-x86_64/egg' to it\n",
            "removing 'build/bdist.linux-x86_64/egg' (and everything under it)\n",
            "Processing fanogan-0.0.1-py3.7.egg\n",
            "Copying fanogan-0.0.1-py3.7.egg to /usr/local/lib/python3.7/dist-packages\n",
            "Adding fanogan 0.0.1 to easy-install.pth file\n",
            "\n",
            "Installed /usr/local/lib/python3.7/dist-packages/fanogan-0.0.1-py3.7.egg\n",
            "Processing dependencies for fanogan==0.0.1\n",
            "Searching for torchvision4ad\n",
            "Reading https://pypi.org/simple/torchvision4ad/\n",
            "Downloading https://files.pythonhosted.org/packages/b6/2f/7d6026a1b5f7003ed298355cfadccacdf4dba792a8b7de7f56b813258ff2/torchvision4ad-0.1.1-py3-none-any.whl#sha256=bfce9cdb3e8c4f3c9e22ad5df9706c5b38604226d7271205f79e29538fb60e7f\n",
            "Best match: torchvision4ad 0.1.1\n",
            "Processing torchvision4ad-0.1.1-py3-none-any.whl\n",
            "Installing torchvision4ad-0.1.1-py3-none-any.whl to /usr/local/lib/python3.7/dist-packages\n",
            "Adding torchvision4ad 0.1.1 to easy-install.pth file\n",
            "\n",
            "Installed /usr/local/lib/python3.7/dist-packages/torchvision4ad-0.1.1-py3.7.egg\n",
            "Searching for scikit-learn==0.22.2.post1\n",
            "Best match: scikit-learn 0.22.2.post1\n",
            "Adding scikit-learn 0.22.2.post1 to easy-install.pth file\n",
            "\n",
            "Using /usr/local/lib/python3.7/dist-packages\n",
            "Searching for Pillow==7.1.2\n",
            "Best match: Pillow 7.1.2\n",
            "Adding Pillow 7.1.2 to easy-install.pth file\n",
            "\n",
            "Using /usr/local/lib/python3.7/dist-packages\n",
            "Searching for pandas==1.1.5\n",
            "Best match: pandas 1.1.5\n",
            "Adding pandas 1.1.5 to easy-install.pth file\n",
            "\n",
            "Using /usr/local/lib/python3.7/dist-packages\n",
            "Searching for numpy==1.19.5\n",
            "Best match: numpy 1.19.5\n",
            "Adding numpy 1.19.5 to easy-install.pth file\n",
            "Installing f2py script to /usr/local/bin\n",
            "Installing f2py3 script to /usr/local/bin\n",
            "Installing f2py3.7 script to /usr/local/bin\n",
            "\n",
            "Using /usr/local/lib/python3.7/dist-packages\n",
            "Searching for matplotlib==3.2.2\n",
            "Best match: matplotlib 3.2.2\n",
            "Adding matplotlib 3.2.2 to easy-install.pth file\n",
            "\n",
            "Using /usr/local/lib/python3.7/dist-packages\n",
            "Searching for torchvision==0.9.1+cu101\n",
            "Best match: torchvision 0.9.1+cu101\n",
            "Adding torchvision 0.9.1+cu101 to easy-install.pth file\n",
            "\n",
            "Using /usr/local/lib/python3.7/dist-packages\n",
            "Searching for torch==1.8.1+cu101\n",
            "Best match: torch 1.8.1+cu101\n",
            "Adding torch 1.8.1+cu101 to easy-install.pth file\n",
            "Installing convert-caffe2-to-onnx script to /usr/local/bin\n",
            "Installing convert-onnx-to-caffe2 script to /usr/local/bin\n",
            "\n",
            "Using /usr/local/lib/python3.7/dist-packages\n",
            "Searching for scipy==1.4.1\n",
            "Best match: scipy 1.4.1\n",
            "Adding scipy 1.4.1 to easy-install.pth file\n",
            "\n",
            "Using /usr/local/lib/python3.7/dist-packages\n",
            "Searching for joblib==1.0.1\n",
            "Best match: joblib 1.0.1\n",
            "Adding joblib 1.0.1 to easy-install.pth file\n",
            "\n",
            "Using /usr/local/lib/python3.7/dist-packages\n",
            "Searching for python-dateutil==2.8.1\n",
            "Best match: python-dateutil 2.8.1\n",
            "Adding python-dateutil 2.8.1 to easy-install.pth file\n",
            "\n",
            "Using /usr/local/lib/python3.7/dist-packages\n",
            "Searching for pytz==2018.9\n",
            "Best match: pytz 2018.9\n",
            "Adding pytz 2018.9 to easy-install.pth file\n",
            "\n",
            "Using /usr/local/lib/python3.7/dist-packages\n",
            "Searching for cycler==0.10.0\n",
            "Best match: cycler 0.10.0\n",
            "Adding cycler 0.10.0 to easy-install.pth file\n",
            "\n",
            "Using /usr/local/lib/python3.7/dist-packages\n",
            "Searching for pyparsing==2.4.7\n",
            "Best match: pyparsing 2.4.7\n",
            "Adding pyparsing 2.4.7 to easy-install.pth file\n",
            "\n",
            "Using /usr/local/lib/python3.7/dist-packages\n",
            "Searching for kiwisolver==1.3.1\n",
            "Best match: kiwisolver 1.3.1\n",
            "Adding kiwisolver 1.3.1 to easy-install.pth file\n",
            "\n",
            "Using /usr/local/lib/python3.7/dist-packages\n",
            "Searching for typing-extensions==3.7.4.3\n",
            "Best match: typing-extensions 3.7.4.3\n",
            "Adding typing-extensions 3.7.4.3 to easy-install.pth file\n",
            "\n",
            "Using /usr/local/lib/python3.7/dist-packages\n",
            "Searching for six==1.15.0\n",
            "Best match: six 1.15.0\n",
            "Adding six 1.15.0 to easy-install.pth file\n",
            "\n",
            "Using /usr/local/lib/python3.7/dist-packages\n",
            "Finished processing dependencies for fanogan==0.0.1\n"
          ],
          "name": "stdout"
        }
      ]
    },
    {
      "cell_type": "code",
      "metadata": {
        "id": "DAKiSkFX3wOC",
        "colab": {
          "base_uri": "https://localhost:8080/"
        },
        "outputId": "5de8aaeb-04e6-461d-996c-650866dcb6eb"
      },
      "source": [
        "%cd mvtec_ad"
      ],
      "execution_count": 4,
      "outputs": [
        {
          "output_type": "stream",
          "text": [
            "/content/f-AnoGAN/mvtec_ad\n"
          ],
          "name": "stdout"
        }
      ]
    },
    {
      "cell_type": "markdown",
      "metadata": {
        "id": "dJmINAPFW4NW"
      },
      "source": [
        "### Step: 1\n",
        "\n",
        "If you don't run command `python train_wgangp.py` yet, please run below."
      ]
    },
    {
      "cell_type": "code",
      "metadata": {
        "colab": {
          "base_uri": "https://localhost:8080/"
        },
        "id": "c1biBkAIt84R",
        "outputId": "6ac35540-d43e-4cc7-9ab0-564e767f48a5"
      },
      "source": [
        "!wget -O bottle.zip https://www.dropbox.com/s/xobctwt4afwyvm4/bottle.zip?dl=0\n",
        "!unzip bottle.zip"
      ],
      "execution_count": 6,
      "outputs": [
        {
          "output_type": "stream",
          "text": [
            "--2021-05-04 04:54:02--  https://www.dropbox.com/s/xobctwt4afwyvm4/bottle.zip?dl=0\n",
            "Resolving www.dropbox.com (www.dropbox.com)... 162.125.65.18, 2620:100:6022:18::a27d:4212\n",
            "Connecting to www.dropbox.com (www.dropbox.com)|162.125.65.18|:443... connected.\n",
            "HTTP request sent, awaiting response... 301 Moved Permanently\n",
            "Location: /s/raw/xobctwt4afwyvm4/bottle.zip [following]\n",
            "--2021-05-04 04:54:02--  https://www.dropbox.com/s/raw/xobctwt4afwyvm4/bottle.zip\n",
            "Reusing existing connection to www.dropbox.com:443.\n",
            "HTTP request sent, awaiting response... 302 Found\n",
            "Location: https://uc8153dff165e77be55074085a2f.dl.dropboxusercontent.com/cd/0/inline/BN3xi8zR37cL8jAsYna5tnKpJDnCJBr2E2BXULaJ23Rxkq42A4fGVMKHiJg_h9DLegB4-6XB56GoSMGjVmR-a2CrCnVa-YyprMu4M1a8X6pWAaZb3EjrPwsYNlJFeuN6gd8vyarKRgUMfaQdm_xKZO_6/file# [following]\n",
            "--2021-05-04 04:54:02--  https://uc8153dff165e77be55074085a2f.dl.dropboxusercontent.com/cd/0/inline/BN3xi8zR37cL8jAsYna5tnKpJDnCJBr2E2BXULaJ23Rxkq42A4fGVMKHiJg_h9DLegB4-6XB56GoSMGjVmR-a2CrCnVa-YyprMu4M1a8X6pWAaZb3EjrPwsYNlJFeuN6gd8vyarKRgUMfaQdm_xKZO_6/file\n",
            "Resolving uc8153dff165e77be55074085a2f.dl.dropboxusercontent.com (uc8153dff165e77be55074085a2f.dl.dropboxusercontent.com)... 162.125.65.15, 2620:100:6027:15::a27d:480f\n",
            "Connecting to uc8153dff165e77be55074085a2f.dl.dropboxusercontent.com (uc8153dff165e77be55074085a2f.dl.dropboxusercontent.com)|162.125.65.15|:443... connected.\n",
            "HTTP request sent, awaiting response... 302 Found\n",
            "Location: /cd/0/inline2/BN31PYM5-UbjFJ-B2NA5BWrBO5s1zrl-6t5bqepIEPoKrq-qaybtJ8IHHBVutIiVqS40swz6AnORqoSShvkF9qvEZoPaCSWUfTkreKOZvfi4AXSfWFwGb4NXhVcJU8ZI0UDS9yIMWdoWL5JGiJ0mu0_RrxYxOjLO4nQAtxEtLsxMSCRYOgHmcF5uV9mH24-mefzgHz2vXSIvF0avi0CoBVRO8VDsMm17-Zaqixaff0KXeakCtP8sq_iCCWLZ2EkflQjN0muxZArHScHnc3d8lvUgkhBsNDubYon2DdAgalCIBexIPA5Z4rd6SUrjAuG2AitahcFGYLr7vsjKlSGlKXfLm7bupa2nkJ7oWABxscm_uZeN7v9r8_OgzVhBNQi9Z-o/file [following]\n",
            "--2021-05-04 04:54:03--  https://uc8153dff165e77be55074085a2f.dl.dropboxusercontent.com/cd/0/inline2/BN31PYM5-UbjFJ-B2NA5BWrBO5s1zrl-6t5bqepIEPoKrq-qaybtJ8IHHBVutIiVqS40swz6AnORqoSShvkF9qvEZoPaCSWUfTkreKOZvfi4AXSfWFwGb4NXhVcJU8ZI0UDS9yIMWdoWL5JGiJ0mu0_RrxYxOjLO4nQAtxEtLsxMSCRYOgHmcF5uV9mH24-mefzgHz2vXSIvF0avi0CoBVRO8VDsMm17-Zaqixaff0KXeakCtP8sq_iCCWLZ2EkflQjN0muxZArHScHnc3d8lvUgkhBsNDubYon2DdAgalCIBexIPA5Z4rd6SUrjAuG2AitahcFGYLr7vsjKlSGlKXfLm7bupa2nkJ7oWABxscm_uZeN7v9r8_OgzVhBNQi9Z-o/file\n",
            "Reusing existing connection to uc8153dff165e77be55074085a2f.dl.dropboxusercontent.com:443.\n",
            "HTTP request sent, awaiting response... 200 OK\n",
            "Length: 156191656 (149M) [application/zip]\n",
            "Saving to: ‘bottle.zip’\n",
            "\n",
            "bottle.zip          100%[===================>] 148.96M  17.3MB/s    in 9.3s    \n",
            "\n",
            "2021-05-04 04:54:13 (16.0 MB/s) - ‘bottle.zip’ saved [156191656/156191656]\n",
            "\n",
            "Archive:  bottle.zip\n",
            "   creating: bottle/\n",
            "   creating: bottle/ground_truth/\n",
            "   creating: bottle/ground_truth/broken_large/\n",
            "  inflating: bottle/ground_truth/broken_large/000_mask.png  \n",
            "  inflating: bottle/ground_truth/broken_large/001_mask.png  \n",
            "  inflating: bottle/ground_truth/broken_large/002_mask.png  \n",
            "  inflating: bottle/ground_truth/broken_large/003_mask.png  \n",
            "  inflating: bottle/ground_truth/broken_large/004_mask.png  \n",
            "  inflating: bottle/ground_truth/broken_large/005_mask.png  \n",
            "  inflating: bottle/ground_truth/broken_large/006_mask.png  \n",
            "  inflating: bottle/ground_truth/broken_large/007_mask.png  \n",
            "  inflating: bottle/ground_truth/broken_large/008_mask.png  \n",
            "  inflating: bottle/ground_truth/broken_large/009_mask.png  \n",
            "  inflating: bottle/ground_truth/broken_large/010_mask.png  \n",
            "  inflating: bottle/ground_truth/broken_large/011_mask.png  \n",
            "  inflating: bottle/ground_truth/broken_large/012_mask.png  \n",
            "  inflating: bottle/ground_truth/broken_large/013_mask.png  \n",
            "  inflating: bottle/ground_truth/broken_large/014_mask.png  \n",
            "  inflating: bottle/ground_truth/broken_large/015_mask.png  \n",
            "  inflating: bottle/ground_truth/broken_large/016_mask.png  \n",
            "  inflating: bottle/ground_truth/broken_large/017_mask.png  \n",
            "  inflating: bottle/ground_truth/broken_large/018_mask.png  \n",
            "  inflating: bottle/ground_truth/broken_large/019_mask.png  \n",
            "   creating: bottle/ground_truth/broken_small/\n",
            "  inflating: bottle/ground_truth/broken_small/000_mask.png  \n",
            "  inflating: bottle/ground_truth/broken_small/001_mask.png  \n",
            "  inflating: bottle/ground_truth/broken_small/002_mask.png  \n",
            "  inflating: bottle/ground_truth/broken_small/003_mask.png  \n",
            "  inflating: bottle/ground_truth/broken_small/004_mask.png  \n",
            "  inflating: bottle/ground_truth/broken_small/005_mask.png  \n",
            "  inflating: bottle/ground_truth/broken_small/006_mask.png  \n",
            "  inflating: bottle/ground_truth/broken_small/007_mask.png  \n",
            "  inflating: bottle/ground_truth/broken_small/008_mask.png  \n",
            "  inflating: bottle/ground_truth/broken_small/009_mask.png  \n",
            "  inflating: bottle/ground_truth/broken_small/010_mask.png  \n",
            "  inflating: bottle/ground_truth/broken_small/011_mask.png  \n",
            "  inflating: bottle/ground_truth/broken_small/012_mask.png  \n",
            "  inflating: bottle/ground_truth/broken_small/013_mask.png  \n",
            "  inflating: bottle/ground_truth/broken_small/014_mask.png  \n",
            "  inflating: bottle/ground_truth/broken_small/015_mask.png  \n",
            "  inflating: bottle/ground_truth/broken_small/016_mask.png  \n",
            "  inflating: bottle/ground_truth/broken_small/017_mask.png  \n",
            "  inflating: bottle/ground_truth/broken_small/018_mask.png  \n",
            "  inflating: bottle/ground_truth/broken_small/019_mask.png  \n",
            "  inflating: bottle/ground_truth/broken_small/020_mask.png  \n",
            "  inflating: bottle/ground_truth/broken_small/021_mask.png  \n",
            "   creating: bottle/ground_truth/contamination/\n",
            "  inflating: bottle/ground_truth/contamination/000_mask.png  \n",
            "  inflating: bottle/ground_truth/contamination/001_mask.png  \n",
            "  inflating: bottle/ground_truth/contamination/002_mask.png  \n",
            "  inflating: bottle/ground_truth/contamination/003_mask.png  \n",
            "  inflating: bottle/ground_truth/contamination/004_mask.png  \n",
            "  inflating: bottle/ground_truth/contamination/005_mask.png  \n",
            "  inflating: bottle/ground_truth/contamination/006_mask.png  \n",
            "  inflating: bottle/ground_truth/contamination/007_mask.png  \n",
            "  inflating: bottle/ground_truth/contamination/008_mask.png  \n",
            "  inflating: bottle/ground_truth/contamination/009_mask.png  \n",
            "  inflating: bottle/ground_truth/contamination/010_mask.png  \n",
            "  inflating: bottle/ground_truth/contamination/011_mask.png  \n",
            "  inflating: bottle/ground_truth/contamination/012_mask.png  \n",
            "  inflating: bottle/ground_truth/contamination/013_mask.png  \n",
            "  inflating: bottle/ground_truth/contamination/014_mask.png  \n",
            "  inflating: bottle/ground_truth/contamination/015_mask.png  \n",
            "  inflating: bottle/ground_truth/contamination/016_mask.png  \n",
            "  inflating: bottle/ground_truth/contamination/017_mask.png  \n",
            "  inflating: bottle/ground_truth/contamination/018_mask.png  \n",
            "  inflating: bottle/ground_truth/contamination/019_mask.png  \n",
            "  inflating: bottle/ground_truth/contamination/020_mask.png  \n",
            "  inflating: bottle/license.txt      \n",
            "  inflating: bottle/readme.txt       \n",
            "   creating: bottle/test/\n",
            "   creating: bottle/test/broken_large/\n",
            "  inflating: bottle/test/broken_large/000.png  \n",
            "  inflating: bottle/test/broken_large/001.png  \n",
            "  inflating: bottle/test/broken_large/002.png  \n",
            "  inflating: bottle/test/broken_large/003.png  \n",
            "  inflating: bottle/test/broken_large/004.png  \n",
            "  inflating: bottle/test/broken_large/005.png  \n",
            "  inflating: bottle/test/broken_large/006.png  \n",
            "  inflating: bottle/test/broken_large/007.png  \n",
            "  inflating: bottle/test/broken_large/008.png  \n",
            "  inflating: bottle/test/broken_large/009.png  \n",
            "  inflating: bottle/test/broken_large/010.png  \n",
            "  inflating: bottle/test/broken_large/011.png  \n",
            "  inflating: bottle/test/broken_large/012.png  \n",
            "  inflating: bottle/test/broken_large/013.png  \n",
            "  inflating: bottle/test/broken_large/014.png  \n",
            "  inflating: bottle/test/broken_large/015.png  \n",
            "  inflating: bottle/test/broken_large/016.png  \n",
            "  inflating: bottle/test/broken_large/017.png  \n",
            "  inflating: bottle/test/broken_large/018.png  \n",
            "  inflating: bottle/test/broken_large/019.png  \n",
            "   creating: bottle/test/broken_small/\n",
            "  inflating: bottle/test/broken_small/000.png  \n",
            "  inflating: bottle/test/broken_small/001.png  \n",
            "  inflating: bottle/test/broken_small/002.png  \n",
            "  inflating: bottle/test/broken_small/003.png  \n",
            "  inflating: bottle/test/broken_small/004.png  \n",
            "  inflating: bottle/test/broken_small/005.png  \n",
            "  inflating: bottle/test/broken_small/006.png  \n",
            "  inflating: bottle/test/broken_small/007.png  \n",
            "  inflating: bottle/test/broken_small/008.png  \n",
            "  inflating: bottle/test/broken_small/009.png  \n",
            "  inflating: bottle/test/broken_small/010.png  \n",
            "  inflating: bottle/test/broken_small/011.png  \n",
            "  inflating: bottle/test/broken_small/012.png  \n",
            "  inflating: bottle/test/broken_small/013.png  \n",
            "  inflating: bottle/test/broken_small/014.png  \n",
            "  inflating: bottle/test/broken_small/015.png  \n",
            "  inflating: bottle/test/broken_small/016.png  \n",
            "  inflating: bottle/test/broken_small/017.png  \n",
            "  inflating: bottle/test/broken_small/018.png  \n",
            "  inflating: bottle/test/broken_small/019.png  \n",
            "  inflating: bottle/test/broken_small/020.png  \n",
            "  inflating: bottle/test/broken_small/021.png  \n",
            "   creating: bottle/test/contamination/\n",
            "  inflating: bottle/test/contamination/000.png  \n",
            "  inflating: bottle/test/contamination/001.png  \n",
            "  inflating: bottle/test/contamination/002.png  \n",
            "  inflating: bottle/test/contamination/003.png  \n",
            "  inflating: bottle/test/contamination/004.png  \n",
            "  inflating: bottle/test/contamination/005.png  \n",
            "  inflating: bottle/test/contamination/006.png  \n",
            "  inflating: bottle/test/contamination/007.png  \n",
            "  inflating: bottle/test/contamination/008.png  \n",
            "  inflating: bottle/test/contamination/009.png  \n",
            "  inflating: bottle/test/contamination/010.png  \n",
            "  inflating: bottle/test/contamination/011.png  \n",
            "  inflating: bottle/test/contamination/012.png  \n",
            "  inflating: bottle/test/contamination/013.png  \n",
            "  inflating: bottle/test/contamination/014.png  \n",
            "  inflating: bottle/test/contamination/015.png  \n",
            "  inflating: bottle/test/contamination/016.png  \n",
            "  inflating: bottle/test/contamination/017.png  \n",
            "  inflating: bottle/test/contamination/018.png  \n",
            "  inflating: bottle/test/contamination/019.png  \n",
            "  inflating: bottle/test/contamination/020.png  \n",
            "   creating: bottle/test/good/\n",
            "  inflating: bottle/test/good/000.png  \n",
            "  inflating: bottle/test/good/001.png  \n",
            "  inflating: bottle/test/good/002.png  \n",
            "  inflating: bottle/test/good/003.png  \n",
            "  inflating: bottle/test/good/004.png  \n",
            "  inflating: bottle/test/good/005.png  \n",
            "  inflating: bottle/test/good/006.png  \n",
            "  inflating: bottle/test/good/007.png  \n",
            "  inflating: bottle/test/good/008.png  \n",
            "  inflating: bottle/test/good/009.png  \n",
            "  inflating: bottle/test/good/010.png  \n",
            "  inflating: bottle/test/good/011.png  \n",
            "  inflating: bottle/test/good/012.png  \n",
            "  inflating: bottle/test/good/013.png  \n",
            "  inflating: bottle/test/good/014.png  \n",
            "  inflating: bottle/test/good/015.png  \n",
            "  inflating: bottle/test/good/016.png  \n",
            "  inflating: bottle/test/good/017.png  \n",
            "  inflating: bottle/test/good/018.png  \n",
            "  inflating: bottle/test/good/019.png  \n",
            "   creating: bottle/train/\n",
            "   creating: bottle/train/good/\n",
            "  inflating: bottle/train/good/000.png  \n",
            "  inflating: bottle/train/good/001.png  \n",
            "  inflating: bottle/train/good/002.png  \n",
            "  inflating: bottle/train/good/003.png  \n",
            "  inflating: bottle/train/good/004.png  \n",
            "  inflating: bottle/train/good/005.png  \n",
            "  inflating: bottle/train/good/006.png  \n",
            "  inflating: bottle/train/good/007.png  \n",
            "  inflating: bottle/train/good/008.png  \n",
            "  inflating: bottle/train/good/009.png  \n",
            "  inflating: bottle/train/good/010.png  \n",
            "  inflating: bottle/train/good/011.png  \n",
            "  inflating: bottle/train/good/012.png  \n",
            "  inflating: bottle/train/good/013.png  \n",
            "  inflating: bottle/train/good/014.png  \n",
            "  inflating: bottle/train/good/015.png  \n",
            "  inflating: bottle/train/good/016.png  \n",
            "  inflating: bottle/train/good/017.png  \n",
            "  inflating: bottle/train/good/018.png  \n",
            "  inflating: bottle/train/good/019.png  \n",
            "  inflating: bottle/train/good/020.png  \n",
            "  inflating: bottle/train/good/021.png  \n",
            "  inflating: bottle/train/good/022.png  \n",
            "  inflating: bottle/train/good/023.png  \n",
            "  inflating: bottle/train/good/024.png  \n",
            "  inflating: bottle/train/good/025.png  \n",
            "  inflating: bottle/train/good/026.png  \n",
            "  inflating: bottle/train/good/027.png  \n",
            "  inflating: bottle/train/good/028.png  \n",
            "  inflating: bottle/train/good/029.png  \n",
            "  inflating: bottle/train/good/030.png  \n",
            "  inflating: bottle/train/good/031.png  \n",
            "  inflating: bottle/train/good/032.png  \n",
            "  inflating: bottle/train/good/033.png  \n",
            "  inflating: bottle/train/good/034.png  \n",
            "  inflating: bottle/train/good/035.png  \n",
            "  inflating: bottle/train/good/036.png  \n",
            "  inflating: bottle/train/good/037.png  \n",
            "  inflating: bottle/train/good/038.png  \n",
            "  inflating: bottle/train/good/039.png  \n",
            "  inflating: bottle/train/good/040.png  \n",
            "  inflating: bottle/train/good/041.png  \n",
            "  inflating: bottle/train/good/042.png  \n",
            "  inflating: bottle/train/good/043.png  \n",
            "  inflating: bottle/train/good/044.png  \n",
            "  inflating: bottle/train/good/045.png  \n",
            "  inflating: bottle/train/good/046.png  \n",
            "  inflating: bottle/train/good/047.png  \n",
            "  inflating: bottle/train/good/048.png  \n",
            "  inflating: bottle/train/good/049.png  \n",
            "  inflating: bottle/train/good/050.png  \n",
            "  inflating: bottle/train/good/051.png  \n",
            "  inflating: bottle/train/good/052.png  \n",
            "  inflating: bottle/train/good/053.png  \n",
            "  inflating: bottle/train/good/054.png  \n",
            "  inflating: bottle/train/good/055.png  \n",
            "  inflating: bottle/train/good/056.png  \n",
            "  inflating: bottle/train/good/057.png  \n",
            "  inflating: bottle/train/good/058.png  \n",
            "  inflating: bottle/train/good/059.png  \n",
            "  inflating: bottle/train/good/060.png  \n",
            "  inflating: bottle/train/good/061.png  \n",
            "  inflating: bottle/train/good/062.png  \n",
            "  inflating: bottle/train/good/063.png  \n",
            "  inflating: bottle/train/good/064.png  \n",
            "  inflating: bottle/train/good/065.png  \n",
            "  inflating: bottle/train/good/066.png  \n",
            "  inflating: bottle/train/good/067.png  \n",
            "  inflating: bottle/train/good/068.png  \n",
            "  inflating: bottle/train/good/069.png  \n",
            "  inflating: bottle/train/good/070.png  \n",
            "  inflating: bottle/train/good/071.png  \n",
            "  inflating: bottle/train/good/072.png  \n",
            "  inflating: bottle/train/good/073.png  \n",
            "  inflating: bottle/train/good/074.png  \n",
            "  inflating: bottle/train/good/075.png  \n",
            "  inflating: bottle/train/good/076.png  \n",
            "  inflating: bottle/train/good/077.png  \n",
            "  inflating: bottle/train/good/078.png  \n",
            "  inflating: bottle/train/good/079.png  \n",
            "  inflating: bottle/train/good/080.png  \n",
            "  inflating: bottle/train/good/081.png  \n",
            "  inflating: bottle/train/good/082.png  \n",
            "  inflating: bottle/train/good/083.png  \n",
            "  inflating: bottle/train/good/084.png  \n",
            "  inflating: bottle/train/good/085.png  \n",
            "  inflating: bottle/train/good/086.png  \n",
            "  inflating: bottle/train/good/087.png  \n",
            "  inflating: bottle/train/good/088.png  \n",
            "  inflating: bottle/train/good/089.png  \n",
            "  inflating: bottle/train/good/090.png  \n",
            "  inflating: bottle/train/good/091.png  \n",
            "  inflating: bottle/train/good/092.png  \n",
            "  inflating: bottle/train/good/093.png  \n",
            "  inflating: bottle/train/good/094.png  \n",
            "  inflating: bottle/train/good/095.png  \n",
            "  inflating: bottle/train/good/096.png  \n",
            "  inflating: bottle/train/good/097.png  \n",
            "  inflating: bottle/train/good/098.png  \n",
            "  inflating: bottle/train/good/099.png  \n",
            "  inflating: bottle/train/good/100.png  \n",
            "  inflating: bottle/train/good/101.png  \n",
            "  inflating: bottle/train/good/102.png  \n",
            "  inflating: bottle/train/good/103.png  \n",
            "  inflating: bottle/train/good/104.png  \n",
            "  inflating: bottle/train/good/105.png  \n",
            "  inflating: bottle/train/good/106.png  \n",
            "  inflating: bottle/train/good/107.png  \n",
            "  inflating: bottle/train/good/108.png  \n",
            "  inflating: bottle/train/good/109.png  \n",
            "  inflating: bottle/train/good/110.png  \n",
            "  inflating: bottle/train/good/111.png  \n",
            "  inflating: bottle/train/good/112.png  \n",
            "  inflating: bottle/train/good/113.png  \n",
            "  inflating: bottle/train/good/114.png  \n",
            "  inflating: bottle/train/good/115.png  \n",
            "  inflating: bottle/train/good/116.png  \n",
            "  inflating: bottle/train/good/117.png  \n",
            "  inflating: bottle/train/good/118.png  \n",
            "  inflating: bottle/train/good/119.png  \n",
            "  inflating: bottle/train/good/120.png  \n",
            "  inflating: bottle/train/good/121.png  \n",
            "  inflating: bottle/train/good/122.png  \n",
            "  inflating: bottle/train/good/123.png  \n",
            "  inflating: bottle/train/good/124.png  \n",
            "  inflating: bottle/train/good/125.png  \n",
            "  inflating: bottle/train/good/126.png  \n",
            "  inflating: bottle/train/good/127.png  \n",
            "  inflating: bottle/train/good/128.png  \n",
            "  inflating: bottle/train/good/129.png  \n",
            "  inflating: bottle/train/good/130.png  \n",
            "  inflating: bottle/train/good/131.png  \n",
            "  inflating: bottle/train/good/132.png  \n",
            "  inflating: bottle/train/good/133.png  \n",
            "  inflating: bottle/train/good/134.png  \n",
            "  inflating: bottle/train/good/135.png  \n",
            "  inflating: bottle/train/good/136.png  \n",
            "  inflating: bottle/train/good/137.png  \n",
            "  inflating: bottle/train/good/138.png  \n",
            "  inflating: bottle/train/good/139.png  \n",
            "  inflating: bottle/train/good/140.png  \n",
            "  inflating: bottle/train/good/141.png  \n",
            "  inflating: bottle/train/good/142.png  \n",
            "  inflating: bottle/train/good/143.png  \n",
            "  inflating: bottle/train/good/144.png  \n",
            "  inflating: bottle/train/good/145.png  \n",
            "  inflating: bottle/train/good/146.png  \n",
            "  inflating: bottle/train/good/147.png  \n",
            "  inflating: bottle/train/good/148.png  \n",
            "  inflating: bottle/train/good/149.png  \n",
            "  inflating: bottle/train/good/150.png  \n",
            "  inflating: bottle/train/good/151.png  \n",
            "  inflating: bottle/train/good/152.png  \n",
            "  inflating: bottle/train/good/153.png  \n",
            "  inflating: bottle/train/good/154.png  \n",
            "  inflating: bottle/train/good/155.png  \n",
            "  inflating: bottle/train/good/156.png  \n",
            "  inflating: bottle/train/good/157.png  \n",
            "  inflating: bottle/train/good/158.png  \n",
            "  inflating: bottle/train/good/159.png  \n",
            "  inflating: bottle/train/good/160.png  \n",
            "  inflating: bottle/train/good/161.png  \n",
            "  inflating: bottle/train/good/162.png  \n",
            "  inflating: bottle/train/good/163.png  \n",
            "  inflating: bottle/train/good/164.png  \n",
            "  inflating: bottle/train/good/165.png  \n",
            "  inflating: bottle/train/good/166.png  \n",
            "  inflating: bottle/train/good/167.png  \n",
            "  inflating: bottle/train/good/168.png  \n",
            "  inflating: bottle/train/good/169.png  \n",
            "  inflating: bottle/train/good/170.png  \n",
            "  inflating: bottle/train/good/171.png  \n",
            "  inflating: bottle/train/good/172.png  \n",
            "  inflating: bottle/train/good/173.png  \n",
            "  inflating: bottle/train/good/174.png  \n",
            "  inflating: bottle/train/good/175.png  \n",
            "  inflating: bottle/train/good/176.png  \n",
            "  inflating: bottle/train/good/177.png  \n",
            "  inflating: bottle/train/good/178.png  \n",
            "  inflating: bottle/train/good/179.png  \n",
            "  inflating: bottle/train/good/180.png  \n",
            "  inflating: bottle/train/good/181.png  \n",
            "  inflating: bottle/train/good/182.png  \n",
            "  inflating: bottle/train/good/183.png  \n",
            "  inflating: bottle/train/good/184.png  \n",
            "  inflating: bottle/train/good/185.png  \n",
            "  inflating: bottle/train/good/186.png  \n",
            "  inflating: bottle/train/good/187.png  \n",
            "  inflating: bottle/train/good/188.png  \n",
            "  inflating: bottle/train/good/189.png  \n",
            "  inflating: bottle/train/good/190.png  \n",
            "  inflating: bottle/train/good/191.png  \n",
            "  inflating: bottle/train/good/192.png  \n",
            "  inflating: bottle/train/good/193.png  \n",
            "  inflating: bottle/train/good/194.png  \n",
            "  inflating: bottle/train/good/195.png  \n",
            "  inflating: bottle/train/good/196.png  \n",
            "  inflating: bottle/train/good/197.png  \n",
            "  inflating: bottle/train/good/198.png  \n",
            "  inflating: bottle/train/good/199.png  \n",
            "  inflating: bottle/train/good/200.png  \n",
            "  inflating: bottle/train/good/201.png  \n",
            "  inflating: bottle/train/good/202.png  \n",
            "  inflating: bottle/train/good/203.png  \n",
            "  inflating: bottle/train/good/204.png  \n",
            "  inflating: bottle/train/good/205.png  \n",
            "  inflating: bottle/train/good/206.png  \n",
            "  inflating: bottle/train/good/207.png  \n",
            "  inflating: bottle/train/good/208.png  \n"
          ],
          "name": "stdout"
        }
      ]
    },
    {
      "cell_type": "code",
      "metadata": {
        "id": "SRffTGcO30ZX",
        "colab": {
          "base_uri": "https://localhost:8080/"
        },
        "outputId": "15c8ab24-20a0-4d02-f63c-5229951e2cdc"
      },
      "source": [
        "!python train_wgangp.py \"bottle\" --seed 1 --n_epochs 1500"
      ],
      "execution_count": null,
      "outputs": [
        {
          "output_type": "stream",
          "text": [
            "[Epoch    0/1500] [Batch 0/7] [D loss: 9.391092] [G loss: 0.001045]\n",
            "[Epoch    0/1500] [Batch 5/7] [D loss: 9.188498] [G loss: 0.000917]\n",
            "[Epoch    1/1500] [Batch 0/7] [D loss: 9.055939] [G loss: 0.000570]\n",
            "[Epoch    1/1500] [Batch 5/7] [D loss: 8.468496] [G loss: 0.000517]\n",
            "[Epoch    2/1500] [Batch 0/7] [D loss: 8.165137] [G loss: -0.000459]\n",
            "[Epoch    2/1500] [Batch 5/7] [D loss: 6.448296] [G loss: -0.012953]\n",
            "[Epoch    3/1500] [Batch 0/7] [D loss: 5.401198] [G loss: -0.022755]\n",
            "[Epoch    3/1500] [Batch 5/7] [D loss: 0.820429] [G loss: -0.120292]\n",
            "[Epoch    4/1500] [Batch 0/7] [D loss: -2.031339] [G loss: -0.247384]\n",
            "[Epoch    4/1500] [Batch 5/7] [D loss: -7.522710] [G loss: -0.651092]\n",
            "[Epoch    5/1500] [Batch 0/7] [D loss: -9.573167] [G loss: -1.063997]\n",
            "[Epoch    5/1500] [Batch 5/7] [D loss: -12.908027] [G loss: -1.869956]\n",
            "[Epoch    6/1500] [Batch 0/7] [D loss: -13.557339] [G loss: -2.783219]\n",
            "[Epoch    6/1500] [Batch 5/7] [D loss: -15.801291] [G loss: -3.507573]\n",
            "[Epoch    7/1500] [Batch 0/7] [D loss: -15.078053] [G loss: -6.025820]\n",
            "[Epoch    7/1500] [Batch 5/7] [D loss: -16.122564] [G loss: -6.433485]\n",
            "[Epoch    8/1500] [Batch 0/7] [D loss: -16.309429] [G loss: -6.844586]\n",
            "[Epoch    8/1500] [Batch 5/7] [D loss: -17.509188] [G loss: -8.867243]\n",
            "[Epoch    9/1500] [Batch 0/7] [D loss: -15.544173] [G loss: -10.450626]\n",
            "[Epoch    9/1500] [Batch 5/7] [D loss: -17.202766] [G loss: -9.835992]\n",
            "[Epoch   10/1500] [Batch 0/7] [D loss: -16.610199] [G loss: -11.238363]\n",
            "[Epoch   10/1500] [Batch 5/7] [D loss: -17.595228] [G loss: -12.074987]\n",
            "[Epoch   11/1500] [Batch 0/7] [D loss: -18.850737] [G loss: -11.282093]\n",
            "[Epoch   11/1500] [Batch 5/7] [D loss: -17.178463] [G loss: -12.895020]\n",
            "[Epoch   12/1500] [Batch 0/7] [D loss: -17.186211] [G loss: -17.636152]\n",
            "[Epoch   12/1500] [Batch 5/7] [D loss: -17.794331] [G loss: -14.148558]\n",
            "[Epoch   13/1500] [Batch 0/7] [D loss: -16.283047] [G loss: -16.831470]\n",
            "[Epoch   13/1500] [Batch 5/7] [D loss: -15.378986] [G loss: -18.630035]\n",
            "[Epoch   14/1500] [Batch 0/7] [D loss: -19.561710] [G loss: -14.767776]\n",
            "[Epoch   14/1500] [Batch 5/7] [D loss: -16.466389] [G loss: -18.533707]\n",
            "[Epoch   15/1500] [Batch 0/7] [D loss: -16.717850] [G loss: -17.844631]\n",
            "[Epoch   15/1500] [Batch 5/7] [D loss: -16.161230] [G loss: -17.417988]\n",
            "[Epoch   16/1500] [Batch 0/7] [D loss: -18.571764] [G loss: -18.670937]\n",
            "[Epoch   16/1500] [Batch 5/7] [D loss: -18.682711] [G loss: -18.068821]\n",
            "[Epoch   17/1500] [Batch 0/7] [D loss: -17.284838] [G loss: -19.196758]\n",
            "[Epoch   17/1500] [Batch 5/7] [D loss: -16.970657] [G loss: -18.309944]\n",
            "[Epoch   18/1500] [Batch 0/7] [D loss: -18.126328] [G loss: -19.805798]\n",
            "[Epoch   18/1500] [Batch 5/7] [D loss: -18.803160] [G loss: -19.076908]\n",
            "[Epoch   19/1500] [Batch 0/7] [D loss: -20.618118] [G loss: -17.018940]\n",
            "[Epoch   19/1500] [Batch 5/7] [D loss: -18.319267] [G loss: -20.329140]\n",
            "[Epoch   20/1500] [Batch 0/7] [D loss: -17.961964] [G loss: -22.663263]\n",
            "[Epoch   20/1500] [Batch 5/7] [D loss: -19.658382] [G loss: -18.718407]\n",
            "[Epoch   21/1500] [Batch 0/7] [D loss: -17.116720] [G loss: -22.588463]\n",
            "[Epoch   21/1500] [Batch 5/7] [D loss: -21.766640] [G loss: -20.711948]\n",
            "[Epoch   22/1500] [Batch 0/7] [D loss: -19.003954] [G loss: -20.363312]\n",
            "[Epoch   22/1500] [Batch 5/7] [D loss: -14.142199] [G loss: -22.400394]\n",
            "[Epoch   23/1500] [Batch 0/7] [D loss: -19.469921] [G loss: -20.678734]\n",
            "[Epoch   23/1500] [Batch 5/7] [D loss: -18.822453] [G loss: -23.714611]\n",
            "[Epoch   24/1500] [Batch 0/7] [D loss: -18.621695] [G loss: -23.696955]\n",
            "[Epoch   24/1500] [Batch 5/7] [D loss: -21.106035] [G loss: -20.921963]\n",
            "[Epoch   25/1500] [Batch 0/7] [D loss: -15.029341] [G loss: -25.193672]\n",
            "[Epoch   25/1500] [Batch 5/7] [D loss: -19.724098] [G loss: -22.857840]\n",
            "[Epoch   26/1500] [Batch 0/7] [D loss: -16.153973] [G loss: -25.534801]\n",
            "[Epoch   26/1500] [Batch 5/7] [D loss: -13.749743] [G loss: -23.581968]\n",
            "[Epoch   27/1500] [Batch 0/7] [D loss: -13.272799] [G loss: -28.750511]\n",
            "[Epoch   27/1500] [Batch 5/7] [D loss: -19.908485] [G loss: -24.319225]\n",
            "[Epoch   28/1500] [Batch 0/7] [D loss: -15.845543] [G loss: -26.823219]\n",
            "[Epoch   28/1500] [Batch 5/7] [D loss: -17.223825] [G loss: -27.778065]\n",
            "[Epoch   29/1500] [Batch 0/7] [D loss: -16.436893] [G loss: -23.685379]\n",
            "[Epoch   29/1500] [Batch 5/7] [D loss: -14.818365] [G loss: -29.452675]\n",
            "[Epoch   30/1500] [Batch 0/7] [D loss: -19.588173] [G loss: -27.699139]\n",
            "[Epoch   30/1500] [Batch 5/7] [D loss: -13.944704] [G loss: -30.404274]\n",
            "[Epoch   31/1500] [Batch 0/7] [D loss: -13.411128] [G loss: -31.973282]\n",
            "[Epoch   31/1500] [Batch 5/7] [D loss: -16.020536] [G loss: -29.321239]\n",
            "[Epoch   32/1500] [Batch 0/7] [D loss: -17.168745] [G loss: -28.499256]\n",
            "[Epoch   32/1500] [Batch 5/7] [D loss: -15.021552] [G loss: -29.804882]\n",
            "[Epoch   33/1500] [Batch 0/7] [D loss: -13.988639] [G loss: -31.853142]\n",
            "[Epoch   33/1500] [Batch 5/7] [D loss: -13.743733] [G loss: -30.242546]\n",
            "[Epoch   34/1500] [Batch 0/7] [D loss: -16.252804] [G loss: -32.248684]\n",
            "[Epoch   34/1500] [Batch 5/7] [D loss: -14.446006] [G loss: -27.883192]\n",
            "[Epoch   35/1500] [Batch 0/7] [D loss: -14.652085] [G loss: -34.570827]\n",
            "[Epoch   35/1500] [Batch 5/7] [D loss: -16.665403] [G loss: -32.602825]\n",
            "[Epoch   36/1500] [Batch 0/7] [D loss: -12.602016] [G loss: -33.628342]\n",
            "[Epoch   36/1500] [Batch 5/7] [D loss: -12.237463] [G loss: -27.573778]\n",
            "[Epoch   37/1500] [Batch 0/7] [D loss: -12.453678] [G loss: -33.589211]\n",
            "[Epoch   37/1500] [Batch 5/7] [D loss: -12.212519] [G loss: -33.926102]\n",
            "[Epoch   38/1500] [Batch 0/7] [D loss: -15.240412] [G loss: -33.772068]\n",
            "[Epoch   38/1500] [Batch 5/7] [D loss: -15.587279] [G loss: -32.956467]\n",
            "[Epoch   39/1500] [Batch 0/7] [D loss: -14.485922] [G loss: -33.974319]\n",
            "[Epoch   39/1500] [Batch 5/7] [D loss: -14.692499] [G loss: -35.552689]\n",
            "[Epoch   40/1500] [Batch 0/7] [D loss: -13.205503] [G loss: -36.252365]\n"
          ],
          "name": "stdout"
        }
      ]
    },
    {
      "cell_type": "markdown",
      "metadata": {
        "id": "jpWKChxDXDd_"
      },
      "source": [
        "The fake images are saved under `f-AnoGAN/mvtec_ad/results/images`."
      ]
    },
    {
      "cell_type": "markdown",
      "metadata": {
        "id": "lrAhRWThXLBJ"
      },
      "source": [
        "### Step: 2\n",
        "If you don't run command `train_z_encoding_izif.py` yet, please run below after Step: 1."
      ]
    },
    {
      "cell_type": "code",
      "metadata": {
        "id": "MYF8R2BsEUBj"
      },
      "source": [
        "!python train_encoder_izif.py \"bottle\" --seed 1 --sample_interval 50 --n_epochs 200"
      ],
      "execution_count": null,
      "outputs": []
    },
    {
      "cell_type": "markdown",
      "metadata": {
        "id": "slQ8jLgcXSbM"
      },
      "source": [
        "The reconfigured images are saved under `f-AnoGAN/mvtec_ad/results/images_e`."
      ]
    },
    {
      "cell_type": "markdown",
      "metadata": {
        "id": "1xDoBOk-Xbz9"
      },
      "source": [
        "### Step: 3  \n",
        "If you don't run command `test_anomaly_detection.py` yet, please run below after Step: 2."
      ]
    },
    {
      "cell_type": "code",
      "metadata": {
        "id": "qlc7-gwl9hUi"
      },
      "source": [
        "!python test_anomaly_detection.py \"bottle\""
      ],
      "execution_count": null,
      "outputs": []
    },
    {
      "cell_type": "markdown",
      "metadata": {
        "id": "fEJl_oI-Xg7p"
      },
      "source": [
        "Scores for anomaly detection are saved under `f-AnoGAN/mvtec_ad/results`."
      ]
    },
    {
      "cell_type": "markdown",
      "metadata": {
        "id": "ZHSCHCS2rZwE"
      },
      "source": [
        "### Step: 4\n",
        "If you don't run command `save_compared_images.py `yet, please run below after Step: 2."
      ]
    },
    {
      "cell_type": "code",
      "metadata": {
        "id": "NQEh0_18qevI"
      },
      "source": [
        "!python save_compared_images.py \"bottle\" --n_iters 0 --n_grid_lines 10"
      ],
      "execution_count": null,
      "outputs": []
    },
    {
      "cell_type": "markdown",
      "metadata": {
        "id": "GNvsXKeJrQ_6"
      },
      "source": [
        "Compared images are saved under `f-AnoGAN/mvtec_ad/results/images_diff`."
      ]
    },
    {
      "cell_type": "markdown",
      "metadata": {
        "id": "lx8YpF-PXl2R"
      },
      "source": [
        "\n",
        "# Visualization Please run below after Step: 1~3.\n",
        "\n",
        "Visualization\n"
      ]
    },
    {
      "cell_type": "code",
      "metadata": {
        "id": "pnjkrnrb50Cd"
      },
      "source": [
        "import matplotlib.pyplot as plt\n",
        "import numpy as np\n",
        "import pandas as pd\n",
        "from sklearn.metrics import roc_curve,  precision_recall_curve, auc"
      ],
      "execution_count": null,
      "outputs": []
    },
    {
      "cell_type": "code",
      "metadata": {
        "id": "fYgEsezABV0p",
        "colab": {
          "base_uri": "https://localhost:8080/",
          "height": 406
        },
        "outputId": "cc86e167-2a9f-49da-a580-60faebdf7f7f"
      },
      "source": [
        "df = pd.read_csv(\"results/score.csv\")"
      ],
      "execution_count": null,
      "outputs": [
        {
          "output_type": "error",
          "ename": "FileNotFoundError",
          "evalue": "ignored",
          "traceback": [
            "\u001b[0;31m---------------------------------------------------------------------------\u001b[0m",
            "\u001b[0;31mFileNotFoundError\u001b[0m                         Traceback (most recent call last)",
            "\u001b[0;32m<ipython-input-10-d7b51fbf760a>\u001b[0m in \u001b[0;36m<module>\u001b[0;34m()\u001b[0m\n\u001b[0;32m----> 1\u001b[0;31m \u001b[0mdf\u001b[0m \u001b[0;34m=\u001b[0m \u001b[0mpd\u001b[0m\u001b[0;34m.\u001b[0m\u001b[0mread_csv\u001b[0m\u001b[0;34m(\u001b[0m\u001b[0;34m\"results/score.csv\"\u001b[0m\u001b[0;34m)\u001b[0m\u001b[0;34m\u001b[0m\u001b[0;34m\u001b[0m\u001b[0m\n\u001b[0m\u001b[1;32m      2\u001b[0m \u001b[0mdf\u001b[0m\u001b[0;34m\u001b[0m\u001b[0;34m\u001b[0m\u001b[0m\n",
            "\u001b[0;32m/usr/local/lib/python3.7/dist-packages/pandas/io/parsers.py\u001b[0m in \u001b[0;36mread_csv\u001b[0;34m(filepath_or_buffer, sep, delimiter, header, names, index_col, usecols, squeeze, prefix, mangle_dupe_cols, dtype, engine, converters, true_values, false_values, skipinitialspace, skiprows, skipfooter, nrows, na_values, keep_default_na, na_filter, verbose, skip_blank_lines, parse_dates, infer_datetime_format, keep_date_col, date_parser, dayfirst, cache_dates, iterator, chunksize, compression, thousands, decimal, lineterminator, quotechar, quoting, doublequote, escapechar, comment, encoding, dialect, error_bad_lines, warn_bad_lines, delim_whitespace, low_memory, memory_map, float_precision)\u001b[0m\n\u001b[1;32m    686\u001b[0m     )\n\u001b[1;32m    687\u001b[0m \u001b[0;34m\u001b[0m\u001b[0m\n\u001b[0;32m--> 688\u001b[0;31m     \u001b[0;32mreturn\u001b[0m \u001b[0m_read\u001b[0m\u001b[0;34m(\u001b[0m\u001b[0mfilepath_or_buffer\u001b[0m\u001b[0;34m,\u001b[0m \u001b[0mkwds\u001b[0m\u001b[0;34m)\u001b[0m\u001b[0;34m\u001b[0m\u001b[0;34m\u001b[0m\u001b[0m\n\u001b[0m\u001b[1;32m    689\u001b[0m \u001b[0;34m\u001b[0m\u001b[0m\n\u001b[1;32m    690\u001b[0m \u001b[0;34m\u001b[0m\u001b[0m\n",
            "\u001b[0;32m/usr/local/lib/python3.7/dist-packages/pandas/io/parsers.py\u001b[0m in \u001b[0;36m_read\u001b[0;34m(filepath_or_buffer, kwds)\u001b[0m\n\u001b[1;32m    452\u001b[0m \u001b[0;34m\u001b[0m\u001b[0m\n\u001b[1;32m    453\u001b[0m     \u001b[0;31m# Create the parser.\u001b[0m\u001b[0;34m\u001b[0m\u001b[0;34m\u001b[0m\u001b[0;34m\u001b[0m\u001b[0m\n\u001b[0;32m--> 454\u001b[0;31m     \u001b[0mparser\u001b[0m \u001b[0;34m=\u001b[0m \u001b[0mTextFileReader\u001b[0m\u001b[0;34m(\u001b[0m\u001b[0mfp_or_buf\u001b[0m\u001b[0;34m,\u001b[0m \u001b[0;34m**\u001b[0m\u001b[0mkwds\u001b[0m\u001b[0;34m)\u001b[0m\u001b[0;34m\u001b[0m\u001b[0;34m\u001b[0m\u001b[0m\n\u001b[0m\u001b[1;32m    455\u001b[0m \u001b[0;34m\u001b[0m\u001b[0m\n\u001b[1;32m    456\u001b[0m     \u001b[0;32mif\u001b[0m \u001b[0mchunksize\u001b[0m \u001b[0;32mor\u001b[0m \u001b[0miterator\u001b[0m\u001b[0;34m:\u001b[0m\u001b[0;34m\u001b[0m\u001b[0;34m\u001b[0m\u001b[0m\n",
            "\u001b[0;32m/usr/local/lib/python3.7/dist-packages/pandas/io/parsers.py\u001b[0m in \u001b[0;36m__init__\u001b[0;34m(self, f, engine, **kwds)\u001b[0m\n\u001b[1;32m    946\u001b[0m             \u001b[0mself\u001b[0m\u001b[0;34m.\u001b[0m\u001b[0moptions\u001b[0m\u001b[0;34m[\u001b[0m\u001b[0;34m\"has_index_names\"\u001b[0m\u001b[0;34m]\u001b[0m \u001b[0;34m=\u001b[0m \u001b[0mkwds\u001b[0m\u001b[0;34m[\u001b[0m\u001b[0;34m\"has_index_names\"\u001b[0m\u001b[0;34m]\u001b[0m\u001b[0;34m\u001b[0m\u001b[0;34m\u001b[0m\u001b[0m\n\u001b[1;32m    947\u001b[0m \u001b[0;34m\u001b[0m\u001b[0m\n\u001b[0;32m--> 948\u001b[0;31m         \u001b[0mself\u001b[0m\u001b[0;34m.\u001b[0m\u001b[0m_make_engine\u001b[0m\u001b[0;34m(\u001b[0m\u001b[0mself\u001b[0m\u001b[0;34m.\u001b[0m\u001b[0mengine\u001b[0m\u001b[0;34m)\u001b[0m\u001b[0;34m\u001b[0m\u001b[0;34m\u001b[0m\u001b[0m\n\u001b[0m\u001b[1;32m    949\u001b[0m \u001b[0;34m\u001b[0m\u001b[0m\n\u001b[1;32m    950\u001b[0m     \u001b[0;32mdef\u001b[0m \u001b[0mclose\u001b[0m\u001b[0;34m(\u001b[0m\u001b[0mself\u001b[0m\u001b[0;34m)\u001b[0m\u001b[0;34m:\u001b[0m\u001b[0;34m\u001b[0m\u001b[0;34m\u001b[0m\u001b[0m\n",
            "\u001b[0;32m/usr/local/lib/python3.7/dist-packages/pandas/io/parsers.py\u001b[0m in \u001b[0;36m_make_engine\u001b[0;34m(self, engine)\u001b[0m\n\u001b[1;32m   1178\u001b[0m     \u001b[0;32mdef\u001b[0m \u001b[0m_make_engine\u001b[0m\u001b[0;34m(\u001b[0m\u001b[0mself\u001b[0m\u001b[0;34m,\u001b[0m \u001b[0mengine\u001b[0m\u001b[0;34m=\u001b[0m\u001b[0;34m\"c\"\u001b[0m\u001b[0;34m)\u001b[0m\u001b[0;34m:\u001b[0m\u001b[0;34m\u001b[0m\u001b[0;34m\u001b[0m\u001b[0m\n\u001b[1;32m   1179\u001b[0m         \u001b[0;32mif\u001b[0m \u001b[0mengine\u001b[0m \u001b[0;34m==\u001b[0m \u001b[0;34m\"c\"\u001b[0m\u001b[0;34m:\u001b[0m\u001b[0;34m\u001b[0m\u001b[0;34m\u001b[0m\u001b[0m\n\u001b[0;32m-> 1180\u001b[0;31m             \u001b[0mself\u001b[0m\u001b[0;34m.\u001b[0m\u001b[0m_engine\u001b[0m \u001b[0;34m=\u001b[0m \u001b[0mCParserWrapper\u001b[0m\u001b[0;34m(\u001b[0m\u001b[0mself\u001b[0m\u001b[0;34m.\u001b[0m\u001b[0mf\u001b[0m\u001b[0;34m,\u001b[0m \u001b[0;34m**\u001b[0m\u001b[0mself\u001b[0m\u001b[0;34m.\u001b[0m\u001b[0moptions\u001b[0m\u001b[0;34m)\u001b[0m\u001b[0;34m\u001b[0m\u001b[0;34m\u001b[0m\u001b[0m\n\u001b[0m\u001b[1;32m   1181\u001b[0m         \u001b[0;32melse\u001b[0m\u001b[0;34m:\u001b[0m\u001b[0;34m\u001b[0m\u001b[0;34m\u001b[0m\u001b[0m\n\u001b[1;32m   1182\u001b[0m             \u001b[0;32mif\u001b[0m \u001b[0mengine\u001b[0m \u001b[0;34m==\u001b[0m \u001b[0;34m\"python\"\u001b[0m\u001b[0;34m:\u001b[0m\u001b[0;34m\u001b[0m\u001b[0;34m\u001b[0m\u001b[0m\n",
            "\u001b[0;32m/usr/local/lib/python3.7/dist-packages/pandas/io/parsers.py\u001b[0m in \u001b[0;36m__init__\u001b[0;34m(self, src, **kwds)\u001b[0m\n\u001b[1;32m   2008\u001b[0m         \u001b[0mkwds\u001b[0m\u001b[0;34m[\u001b[0m\u001b[0;34m\"usecols\"\u001b[0m\u001b[0;34m]\u001b[0m \u001b[0;34m=\u001b[0m \u001b[0mself\u001b[0m\u001b[0;34m.\u001b[0m\u001b[0musecols\u001b[0m\u001b[0;34m\u001b[0m\u001b[0;34m\u001b[0m\u001b[0m\n\u001b[1;32m   2009\u001b[0m \u001b[0;34m\u001b[0m\u001b[0m\n\u001b[0;32m-> 2010\u001b[0;31m         \u001b[0mself\u001b[0m\u001b[0;34m.\u001b[0m\u001b[0m_reader\u001b[0m \u001b[0;34m=\u001b[0m \u001b[0mparsers\u001b[0m\u001b[0;34m.\u001b[0m\u001b[0mTextReader\u001b[0m\u001b[0;34m(\u001b[0m\u001b[0msrc\u001b[0m\u001b[0;34m,\u001b[0m \u001b[0;34m**\u001b[0m\u001b[0mkwds\u001b[0m\u001b[0;34m)\u001b[0m\u001b[0;34m\u001b[0m\u001b[0;34m\u001b[0m\u001b[0m\n\u001b[0m\u001b[1;32m   2011\u001b[0m         \u001b[0mself\u001b[0m\u001b[0;34m.\u001b[0m\u001b[0munnamed_cols\u001b[0m \u001b[0;34m=\u001b[0m \u001b[0mself\u001b[0m\u001b[0;34m.\u001b[0m\u001b[0m_reader\u001b[0m\u001b[0;34m.\u001b[0m\u001b[0munnamed_cols\u001b[0m\u001b[0;34m\u001b[0m\u001b[0;34m\u001b[0m\u001b[0m\n\u001b[1;32m   2012\u001b[0m \u001b[0;34m\u001b[0m\u001b[0m\n",
            "\u001b[0;32mpandas/_libs/parsers.pyx\u001b[0m in \u001b[0;36mpandas._libs.parsers.TextReader.__cinit__\u001b[0;34m()\u001b[0m\n",
            "\u001b[0;32mpandas/_libs/parsers.pyx\u001b[0m in \u001b[0;36mpandas._libs.parsers.TextReader._setup_parser_source\u001b[0;34m()\u001b[0m\n",
            "\u001b[0;31mFileNotFoundError\u001b[0m: [Errno 2] No such file or directory: 'results/score.csv'"
          ]
        }
      ]
    },
    {
      "cell_type": "code",
      "metadata": {
        "id": "RRz6zul3BZAZ"
      },
      "source": [
        "trainig_label = 0\n",
        "labels = np.where(df[\"label\"].values == trainig_label, 0, 1)\n",
        "anomaly_score = df[\"anomaly_score\"].values\n",
        "img_distance = df[\"img_distance\"].values\n",
        "z_distance = df[\"z_distance\"].values"
      ],
      "execution_count": null,
      "outputs": []
    },
    {
      "cell_type": "code",
      "metadata": {
        "id": "pzA-zHFzBrr6"
      },
      "source": [
        "fpr, tpr, _ = roc_curve(labels, img_distance)\n",
        "precision, recall, _ = precision_recall_curve(labels, img_distance)\n",
        "roc_auc = auc(fpr, tpr)\n",
        "pr_auc =  auc(recall, precision)"
      ],
      "execution_count": null,
      "outputs": []
    },
    {
      "cell_type": "markdown",
      "metadata": {
        "id": "vlB3ONjHXrgq"
      },
      "source": [
        "## Image-level anomaly detection accuracy evaluation"
      ]
    },
    {
      "cell_type": "code",
      "metadata": {
        "id": "R7roGx5JBsoZ"
      },
      "source": [
        "plt.plot(fpr, tpr, label=f\"AUC = {roc_auc:3f}\")\n",
        "plt.plot([0, 1], [0, 1], linestyle=\"--\")\n",
        "plt.title(\"ROC-AUC\")\n",
        "plt.xlabel(\"False Positive Rate\")\n",
        "plt.ylabel(\"True Positive Rate\")\n",
        "plt.legend()\n",
        "plt.show()"
      ],
      "execution_count": null,
      "outputs": []
    },
    {
      "cell_type": "code",
      "metadata": {
        "id": "e1tm5DxDBvW_"
      },
      "source": [
        "plt.plot(recall, precision, label=f\" AUC = {pr_auc:3f}\")\n",
        "plt.title(\"PR-AUC\")\n",
        "plt.xlabel(\"Recall\")\n",
        "plt.ylabel(\"Pecision\")\n",
        "plt.legend()\n",
        "plt.show()"
      ],
      "execution_count": null,
      "outputs": []
    },
    {
      "cell_type": "markdown",
      "metadata": {
        "id": "RbbqN_NeXwQT"
      },
      "source": [
        "## Discrete distributions of anomaly scores"
      ]
    },
    {
      "cell_type": "code",
      "metadata": {
        "id": "1yaOmLTrB0hq"
      },
      "source": [
        "plt.hist([anomaly_score[labels == 0], anomaly_score[labels == 1]],\n",
        "          bins=100, density=True, stacked=True,\n",
        "          label=[\"Normal\", \"Abnormal\"])\n",
        "plt.title(\"Discrete distributions of anomaly scores\")\n",
        "plt.xlabel(\"Anomaly scores A(x)\")\n",
        "plt.ylabel(\"h\")\n",
        "plt.legend()\n",
        "plt.show()"
      ],
      "execution_count": null,
      "outputs": []
    },
    {
      "cell_type": "markdown",
      "metadata": {
        "id": "3hpsJVBLrFbI"
      },
      "source": [
        "## Compared Images"
      ]
    },
    {
      "cell_type": "code",
      "metadata": {
        "id": "Vq7euPwaqbHe"
      },
      "source": [
        "from PIL import Image\n",
        "\n",
        "Image.open(\"results/images_diff/000010.png\")"
      ],
      "execution_count": null,
      "outputs": []
    }
  ]
}