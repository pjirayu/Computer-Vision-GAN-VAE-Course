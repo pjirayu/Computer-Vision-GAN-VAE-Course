{
  "nbformat": 4,
  "nbformat_minor": 0,
  "metadata": {
    "colab": {
      "name": "Untitled4.ipynb",
      "provenance": [],
      "collapsed_sections": []
    },
    "kernelspec": {
      "name": "python3",
      "display_name": "Python 3"
    },
    "widgets": {
      "application/vnd.jupyter.widget-state+json": {
        "459dfa9d826148dba825a531333f53e4": {
          "model_module": "@jupyter-widgets/controls",
          "model_name": "HBoxModel",
          "state": {
            "_view_name": "HBoxView",
            "_dom_classes": [],
            "_model_name": "HBoxModel",
            "_view_module": "@jupyter-widgets/controls",
            "_model_module_version": "1.5.0",
            "_view_count": null,
            "_view_module_version": "1.5.0",
            "box_style": "",
            "layout": "IPY_MODEL_9f948ce287f74754b32f2456e50e1789",
            "_model_module": "@jupyter-widgets/controls",
            "children": [
              "IPY_MODEL_49be2b5d92fa41fbbbb0d669cf80bdfc",
              "IPY_MODEL_5a8606ab0a7f4f3291e54ff676f921c3"
            ]
          }
        },
        "9f948ce287f74754b32f2456e50e1789": {
          "model_module": "@jupyter-widgets/base",
          "model_name": "LayoutModel",
          "state": {
            "_view_name": "LayoutView",
            "grid_template_rows": null,
            "right": null,
            "justify_content": null,
            "_view_module": "@jupyter-widgets/base",
            "overflow": null,
            "_model_module_version": "1.2.0",
            "_view_count": null,
            "flex_flow": null,
            "width": null,
            "min_width": null,
            "border": null,
            "align_items": null,
            "bottom": null,
            "_model_module": "@jupyter-widgets/base",
            "top": null,
            "grid_column": null,
            "overflow_y": null,
            "overflow_x": null,
            "grid_auto_flow": null,
            "grid_area": null,
            "grid_template_columns": null,
            "flex": null,
            "_model_name": "LayoutModel",
            "justify_items": null,
            "grid_row": null,
            "max_height": null,
            "align_content": null,
            "visibility": null,
            "align_self": null,
            "height": null,
            "min_height": null,
            "padding": null,
            "grid_auto_rows": null,
            "grid_gap": null,
            "max_width": null,
            "order": null,
            "_view_module_version": "1.2.0",
            "grid_template_areas": null,
            "object_position": null,
            "object_fit": null,
            "grid_auto_columns": null,
            "margin": null,
            "display": null,
            "left": null
          }
        },
        "49be2b5d92fa41fbbbb0d669cf80bdfc": {
          "model_module": "@jupyter-widgets/controls",
          "model_name": "FloatProgressModel",
          "state": {
            "_view_name": "ProgressView",
            "style": "IPY_MODEL_d15473f7f2884d3ba3543e619de9fae6",
            "_dom_classes": [],
            "description": "",
            "_model_name": "FloatProgressModel",
            "bar_style": "info",
            "max": 1,
            "_view_module": "@jupyter-widgets/controls",
            "_model_module_version": "1.5.0",
            "value": 1,
            "_view_count": null,
            "_view_module_version": "1.5.0",
            "orientation": "horizontal",
            "min": 0,
            "description_tooltip": null,
            "_model_module": "@jupyter-widgets/controls",
            "layout": "IPY_MODEL_b7db92bec58d4217b8ad22f4f2d6ce8a"
          }
        },
        "5a8606ab0a7f4f3291e54ff676f921c3": {
          "model_module": "@jupyter-widgets/controls",
          "model_name": "HTMLModel",
          "state": {
            "_view_name": "HTMLView",
            "style": "IPY_MODEL_d574bda02fae4a299322b39feee2ccb1",
            "_dom_classes": [],
            "description": "",
            "_model_name": "HTMLModel",
            "placeholder": "​",
            "_view_module": "@jupyter-widgets/controls",
            "_model_module_version": "1.5.0",
            "value": " 170500096/? [00:30&lt;00:00, 16296359.83it/s]",
            "_view_count": null,
            "_view_module_version": "1.5.0",
            "description_tooltip": null,
            "_model_module": "@jupyter-widgets/controls",
            "layout": "IPY_MODEL_b876e3e634e04bab8829799df8d70cd5"
          }
        },
        "d15473f7f2884d3ba3543e619de9fae6": {
          "model_module": "@jupyter-widgets/controls",
          "model_name": "ProgressStyleModel",
          "state": {
            "_view_name": "StyleView",
            "_model_name": "ProgressStyleModel",
            "description_width": "initial",
            "_view_module": "@jupyter-widgets/base",
            "_model_module_version": "1.5.0",
            "_view_count": null,
            "_view_module_version": "1.2.0",
            "bar_color": null,
            "_model_module": "@jupyter-widgets/controls"
          }
        },
        "b7db92bec58d4217b8ad22f4f2d6ce8a": {
          "model_module": "@jupyter-widgets/base",
          "model_name": "LayoutModel",
          "state": {
            "_view_name": "LayoutView",
            "grid_template_rows": null,
            "right": null,
            "justify_content": null,
            "_view_module": "@jupyter-widgets/base",
            "overflow": null,
            "_model_module_version": "1.2.0",
            "_view_count": null,
            "flex_flow": null,
            "width": null,
            "min_width": null,
            "border": null,
            "align_items": null,
            "bottom": null,
            "_model_module": "@jupyter-widgets/base",
            "top": null,
            "grid_column": null,
            "overflow_y": null,
            "overflow_x": null,
            "grid_auto_flow": null,
            "grid_area": null,
            "grid_template_columns": null,
            "flex": null,
            "_model_name": "LayoutModel",
            "justify_items": null,
            "grid_row": null,
            "max_height": null,
            "align_content": null,
            "visibility": null,
            "align_self": null,
            "height": null,
            "min_height": null,
            "padding": null,
            "grid_auto_rows": null,
            "grid_gap": null,
            "max_width": null,
            "order": null,
            "_view_module_version": "1.2.0",
            "grid_template_areas": null,
            "object_position": null,
            "object_fit": null,
            "grid_auto_columns": null,
            "margin": null,
            "display": null,
            "left": null
          }
        },
        "d574bda02fae4a299322b39feee2ccb1": {
          "model_module": "@jupyter-widgets/controls",
          "model_name": "DescriptionStyleModel",
          "state": {
            "_view_name": "StyleView",
            "_model_name": "DescriptionStyleModel",
            "description_width": "",
            "_view_module": "@jupyter-widgets/base",
            "_model_module_version": "1.5.0",
            "_view_count": null,
            "_view_module_version": "1.2.0",
            "_model_module": "@jupyter-widgets/controls"
          }
        },
        "b876e3e634e04bab8829799df8d70cd5": {
          "model_module": "@jupyter-widgets/base",
          "model_name": "LayoutModel",
          "state": {
            "_view_name": "LayoutView",
            "grid_template_rows": null,
            "right": null,
            "justify_content": null,
            "_view_module": "@jupyter-widgets/base",
            "overflow": null,
            "_model_module_version": "1.2.0",
            "_view_count": null,
            "flex_flow": null,
            "width": null,
            "min_width": null,
            "border": null,
            "align_items": null,
            "bottom": null,
            "_model_module": "@jupyter-widgets/base",
            "top": null,
            "grid_column": null,
            "overflow_y": null,
            "overflow_x": null,
            "grid_auto_flow": null,
            "grid_area": null,
            "grid_template_columns": null,
            "flex": null,
            "_model_name": "LayoutModel",
            "justify_items": null,
            "grid_row": null,
            "max_height": null,
            "align_content": null,
            "visibility": null,
            "align_self": null,
            "height": null,
            "min_height": null,
            "padding": null,
            "grid_auto_rows": null,
            "grid_gap": null,
            "max_width": null,
            "order": null,
            "_view_module_version": "1.2.0",
            "grid_template_areas": null,
            "object_position": null,
            "object_fit": null,
            "grid_auto_columns": null,
            "margin": null,
            "display": null,
            "left": null
          }
        }
      }
    }
  },
  "cells": [
    {
      "cell_type": "code",
      "metadata": {
        "id": "q-HUqnByMqhs"
      },
      "source": [
        "import torch\r\n",
        "import torchvision\r\n",
        "import torchvision.transforms as transforms\r\n",
        "import torch.optim as optim\r\n",
        "import torch.nn as nn\r\n",
        "import torch.nn.functional as F\r\n",
        "import matplotlib.pyplot as plt\r\n",
        "import numpy as np"
      ],
      "execution_count": 8,
      "outputs": []
    },
    {
      "cell_type": "markdown",
      "metadata": {
        "id": "hqczaTKNNCee"
      },
      "source": [
        "\r\n",
        "1.Define a Convolutional Neural Network\r\n",
        "\r\n"
      ]
    },
    {
      "cell_type": "code",
      "metadata": {
        "id": "P9DEGSjcMsEd"
      },
      "source": [
        "class Net(nn.Module):\r\n",
        "  def __init__(self):\r\n",
        "    super(Net, self).__init__()\r\n",
        "    self.conv1 = nn.Conv2d(3, 6, 5)\r\n",
        "    self.pool = nn.MaxPool2d(2, 2)\r\n",
        "    self.conv2 = nn.Conv2d(6, 16, 5)\r\n",
        "    self.fc1 = nn.Linear(16 * 5 * 5, 120)\r\n",
        "    self.fc2 = nn.Linear(120, 84)\r\n",
        "    self.fc3 = nn.Linear(84, 10)\r\n",
        "\r\n",
        "  def forward(self, x):\r\n",
        "    x = self.pool(F.relu(self.conv1(x)))\r\n",
        "    x = self.pool(F.relu(self.conv2(x)))\r\n",
        "    x = x.view(-1, 16 * 5 * 5)\r\n",
        "    x = F.relu(self.fc1(x))\r\n",
        "    x = F.relu(self.fc2(x))\r\n",
        "    x = self.fc3(x)\r\n",
        "    return x"
      ],
      "execution_count": 9,
      "outputs": []
    },
    {
      "cell_type": "code",
      "metadata": {
        "id": "vJbAUgsONuT_"
      },
      "source": [
        "def imshow(img):\r\n",
        "  img = img / 2 + 0.5  # unnormalize\r\n",
        "  npimg = img.numpy()\r\n",
        "  plt.imshow(np.transpose(npimg, (1, 2, 0)))\r\n",
        "  plt.show()"
      ],
      "execution_count": 10,
      "outputs": []
    },
    {
      "cell_type": "code",
      "metadata": {
        "id": "t-hXCjloOyvr"
      },
      "source": [
        "def save_checkpoint(state, save_dir, filename='checkpoint.pth'):\r\n",
        "  save_name = save_dir + '_{}'.format(filename)\r\n",
        "  torch.save(state, save_name)"
      ],
      "execution_count": 11,
      "outputs": []
    },
    {
      "cell_type": "markdown",
      "metadata": {
        "id": "ud9G9_mKPxYd"
      },
      "source": [
        "2.Define the CIFAR10 Dataset"
      ]
    },
    {
      "cell_type": "code",
      "metadata": {
        "colab": {
          "base_uri": "https://localhost:8080/",
          "height": 104,
          "referenced_widgets": [
            "459dfa9d826148dba825a531333f53e4",
            "9f948ce287f74754b32f2456e50e1789",
            "49be2b5d92fa41fbbbb0d669cf80bdfc",
            "5a8606ab0a7f4f3291e54ff676f921c3",
            "d15473f7f2884d3ba3543e619de9fae6",
            "b7db92bec58d4217b8ad22f4f2d6ce8a",
            "d574bda02fae4a299322b39feee2ccb1",
            "b876e3e634e04bab8829799df8d70cd5"
          ]
        },
        "id": "tD-GtlFrNy7W",
        "outputId": "0cd3f25a-0e27-4eb2-8708-cf727f477183"
      },
      "source": [
        "transform = transforms.Compose([transforms.ToTensor(),transforms.Normalize((0.5, 0.5, 0.5), (0.5, 0.5, 0.5))])\r\n",
        "\r\n",
        "trainset = torchvision.datasets.CIFAR10(root='./data', train=True,download=True, transform=transform)\r\n",
        "trainloader = torch.utils.data.DataLoader(trainset, batch_size=4,shuffle=True, num_workers=2)\r\n",
        "\r\n",
        "testset = torchvision.datasets.CIFAR10(root='./data', train=False,download=True, transform=transform)\r\n",
        "testloader = torch.utils.data.DataLoader(testset, batch_size=4,shuffle=False, num_workers=2)\r\n",
        "\r\n",
        "classes = ('plane', 'car', 'bird', 'cat',\r\n",
        "            'deer', 'dog', 'frog', 'horse', 'ship', 'truck')\r\n",
        "\r\n",
        "\r\n",
        "net = Net()"
      ],
      "execution_count": 12,
      "outputs": [
        {
          "output_type": "stream",
          "text": [
            "Downloading https://www.cs.toronto.edu/~kriz/cifar-10-python.tar.gz to ./data/cifar-10-python.tar.gz\n"
          ],
          "name": "stdout"
        },
        {
          "output_type": "display_data",
          "data": {
            "application/vnd.jupyter.widget-view+json": {
              "model_id": "459dfa9d826148dba825a531333f53e4",
              "version_minor": 0,
              "version_major": 2
            },
            "text/plain": [
              "HBox(children=(FloatProgress(value=1.0, bar_style='info', max=1.0), HTML(value='')))"
            ]
          },
          "metadata": {
            "tags": []
          }
        },
        {
          "output_type": "stream",
          "text": [
            "Extracting ./data/cifar-10-python.tar.gz to ./data\n",
            "Files already downloaded and verified\n"
          ],
          "name": "stdout"
        }
      ]
    },
    {
      "cell_type": "markdown",
      "metadata": {
        "id": "f3hZPo5bPnRl"
      },
      "source": [
        "3.\r\n",
        "Define the Loss Function and optimizer"
      ]
    },
    {
      "cell_type": "code",
      "metadata": {
        "id": "gt0UcB58N8Rn"
      },
      "source": [
        "criterion = nn.CrossEntropyLoss()\r\n",
        "optimizer = optim.SGD(net.parameters(), lr=0.001, momentum=0.9)"
      ],
      "execution_count": 17,
      "outputs": []
    },
    {
      "cell_type": "markdown",
      "metadata": {
        "id": "szHxpzy4P4sL"
      },
      "source": [
        "4.Train the network"
      ]
    },
    {
      "cell_type": "code",
      "metadata": {
        "colab": {
          "base_uri": "https://localhost:8080/"
        },
        "id": "OE-qacrHODrY",
        "outputId": "54f39521-fc91-460a-9334-ab23453c2c2d"
      },
      "source": [
        "for epoch in range(3):  # loop over the dataset multiple times\r\n",
        "\r\n",
        "  running_loss = 0.0\r\n",
        "  for i, data in enumerate(trainloader, 0):\r\n",
        "    # get the inputs; data is a list of [inputs, labels]\r\n",
        "    inputs, labels = data\r\n",
        "\r\n",
        "\r\n",
        "    # zero the parameter gradients\r\n",
        "    optimizer.zero_grad()\r\n",
        "\r\n",
        "    # forward + backward + optimize\r\n",
        "    outputs = net(inputs)\r\n",
        "    loss = criterion(outputs, labels)\r\n",
        "    loss.backward()\r\n",
        "    optimizer.step()\r\n",
        "    \r\n",
        "    # print statistics\r\n",
        "    running_loss += loss.item()\r\n",
        "    if i % 2000 == 1999:    # print every 2000 mini-batches\r\n",
        "  \r\n",
        "      print(\"Epoch : {} steps : {} Training Loss : {}\".format(epoch + 1, i + 1, running_loss / 2000) )\r\n",
        "      running_loss = 0.0\r\n",
        "  save_checkpoint({'net':net.state_dict()}, 'test_epoch{}'.format(epoch+1))        \r\n",
        "\r\n",
        "print('Finished Training')"
      ],
      "execution_count": 14,
      "outputs": [
        {
          "output_type": "stream",
          "text": [
            "Epoch : 1 steps : 2000 Training Loss : 2.1889700249433517\n",
            "Epoch : 1 steps : 4000 Training Loss : 1.8390005451440812\n",
            "Epoch : 1 steps : 6000 Training Loss : 1.643870963960886\n",
            "Epoch : 1 steps : 8000 Training Loss : 1.5679095338881015\n",
            "Epoch : 1 steps : 10000 Training Loss : 1.492728895097971\n",
            "Epoch : 1 steps : 12000 Training Loss : 1.4820199556872249\n",
            "Epoch : 2 steps : 2000 Training Loss : 1.407832405924797\n",
            "Epoch : 2 steps : 4000 Training Loss : 1.3714569466710091\n",
            "Epoch : 2 steps : 6000 Training Loss : 1.3651220782622695\n",
            "Epoch : 2 steps : 8000 Training Loss : 1.3291044723726808\n",
            "Epoch : 2 steps : 10000 Training Loss : 1.284140573028475\n",
            "Epoch : 2 steps : 12000 Training Loss : 1.2962907982245087\n",
            "Epoch : 3 steps : 2000 Training Loss : 1.2023748714327813\n",
            "Epoch : 3 steps : 4000 Training Loss : 1.2107961179297417\n",
            "Epoch : 3 steps : 6000 Training Loss : 1.1705148331448436\n",
            "Epoch : 3 steps : 8000 Training Loss : 1.2100771391429006\n",
            "Epoch : 3 steps : 10000 Training Loss : 1.185110432397574\n",
            "Epoch : 3 steps : 12000 Training Loss : 1.1803923727944494\n",
            "Finished Training\n"
          ],
          "name": "stdout"
        }
      ]
    },
    {
      "cell_type": "code",
      "metadata": {
        "id": "sCqldTYmOKXS"
      },
      "source": [
        "dataiter = iter(testloader)\r\n",
        "images, labels = dataiter.next()"
      ],
      "execution_count": 15,
      "outputs": []
    },
    {
      "cell_type": "code",
      "metadata": {
        "colab": {
          "base_uri": "https://localhost:8080/"
        },
        "id": "gfCfS9jAONtE",
        "outputId": "b7d8e0f5-74c1-4b77-eb12-dd119b21d100"
      },
      "source": [
        "dataiter = iter(testloader)\r\n",
        "images, labels = dataiter.next()\r\n",
        "outputs = net(images)\r\n",
        "_, predicted = torch.max(outputs, 1)\r\n",
        "\r\n",
        "print('Predicted: ', ' '.join('%5s' % classes[predicted[j]]for j in range(4)))\r\n",
        "correct = 0\r\n",
        "total = 0\r\n",
        "with torch.no_grad():\r\n",
        "  for data in testloader:\r\n",
        "    images, labels = data\r\n",
        "    outputs = net(images)\r\n",
        "    _, predicted = torch.max(outputs.data, 1)\r\n",
        "    total += labels.size(0)\r\n",
        "    correct += (predicted == labels).sum().item()\r\n",
        "\r\n",
        "print('Accuracy : %d %%' % (100 * correct / total))"
      ],
      "execution_count": 16,
      "outputs": [
        {
          "output_type": "stream",
          "text": [
            "Predicted:    cat   car   car  ship\n",
            "Accuracy : 58 %\n"
          ],
          "name": "stdout"
        }
      ]
    }
  ]
}