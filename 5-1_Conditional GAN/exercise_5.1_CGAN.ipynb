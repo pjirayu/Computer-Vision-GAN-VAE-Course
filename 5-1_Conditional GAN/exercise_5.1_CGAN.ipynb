{
  "nbformat": 4,
  "nbformat_minor": 0,
  "metadata": {
    "colab": {
      "name": "Exercise_8.1_CGAN.ipynb",
      "provenance": [],
      "collapsed_sections": [],
      "toc_visible": true
    },
    "kernelspec": {
      "name": "python3",
      "display_name": "Python 3"
    },
    "accelerator": "GPU",
    "widgets": {
      "application/vnd.jupyter.widget-state+json": {
        "452bbd31fa864ad39d93a2a0f33ef570": {
          "model_module": "@jupyter-widgets/controls",
          "model_name": "HBoxModel",
          "state": {
            "_view_name": "HBoxView",
            "_dom_classes": [],
            "_model_name": "HBoxModel",
            "_view_module": "@jupyter-widgets/controls",
            "_model_module_version": "1.5.0",
            "_view_count": null,
            "_view_module_version": "1.5.0",
            "box_style": "",
            "layout": "IPY_MODEL_2b973ad466184633af2b4614cf38cc5f",
            "_model_module": "@jupyter-widgets/controls",
            "children": [
              "IPY_MODEL_c15779c776c84537af9b339c1258435c",
              "IPY_MODEL_e1802bfd18684b05a19bca9e6a8caf97"
            ]
          }
        },
        "2b973ad466184633af2b4614cf38cc5f": {
          "model_module": "@jupyter-widgets/base",
          "model_name": "LayoutModel",
          "state": {
            "_view_name": "LayoutView",
            "grid_template_rows": null,
            "right": null,
            "justify_content": null,
            "_view_module": "@jupyter-widgets/base",
            "overflow": null,
            "_model_module_version": "1.2.0",
            "_view_count": null,
            "flex_flow": null,
            "width": null,
            "min_width": null,
            "border": null,
            "align_items": null,
            "bottom": null,
            "_model_module": "@jupyter-widgets/base",
            "top": null,
            "grid_column": null,
            "overflow_y": null,
            "overflow_x": null,
            "grid_auto_flow": null,
            "grid_area": null,
            "grid_template_columns": null,
            "flex": null,
            "_model_name": "LayoutModel",
            "justify_items": null,
            "grid_row": null,
            "max_height": null,
            "align_content": null,
            "visibility": null,
            "align_self": null,
            "height": null,
            "min_height": null,
            "padding": null,
            "grid_auto_rows": null,
            "grid_gap": null,
            "max_width": null,
            "order": null,
            "_view_module_version": "1.2.0",
            "grid_template_areas": null,
            "object_position": null,
            "object_fit": null,
            "grid_auto_columns": null,
            "margin": null,
            "display": null,
            "left": null
          }
        },
        "c15779c776c84537af9b339c1258435c": {
          "model_module": "@jupyter-widgets/controls",
          "model_name": "IntProgressModel",
          "state": {
            "_view_name": "ProgressView",
            "style": "IPY_MODEL_c1a01529fb9c4266a2809ff4f62afa34",
            "_dom_classes": [],
            "description": "",
            "_model_name": "IntProgressModel",
            "bar_style": "info",
            "max": 1,
            "_view_module": "@jupyter-widgets/controls",
            "_model_module_version": "1.5.0",
            "value": 1,
            "_view_count": null,
            "_view_module_version": "1.5.0",
            "orientation": "horizontal",
            "min": 0,
            "description_tooltip": null,
            "_model_module": "@jupyter-widgets/controls",
            "layout": "IPY_MODEL_24b830a025b340a6a92088eaaea3aa64"
          }
        },
        "e1802bfd18684b05a19bca9e6a8caf97": {
          "model_module": "@jupyter-widgets/controls",
          "model_name": "HTMLModel",
          "state": {
            "_view_name": "HTMLView",
            "style": "IPY_MODEL_7ae5d637e6014e1f933ee2dc31543989",
            "_dom_classes": [],
            "description": "",
            "_model_name": "HTMLModel",
            "placeholder": "​",
            "_view_module": "@jupyter-widgets/controls",
            "_model_module_version": "1.5.0",
            "value": " 9920512/? [00:20&lt;00:00, 1590367.36it/s]",
            "_view_count": null,
            "_view_module_version": "1.5.0",
            "description_tooltip": null,
            "_model_module": "@jupyter-widgets/controls",
            "layout": "IPY_MODEL_86e009cbf8014a52a05a71bce06a2cdd"
          }
        },
        "c1a01529fb9c4266a2809ff4f62afa34": {
          "model_module": "@jupyter-widgets/controls",
          "model_name": "ProgressStyleModel",
          "state": {
            "_view_name": "StyleView",
            "_model_name": "ProgressStyleModel",
            "description_width": "initial",
            "_view_module": "@jupyter-widgets/base",
            "_model_module_version": "1.5.0",
            "_view_count": null,
            "_view_module_version": "1.2.0",
            "bar_color": null,
            "_model_module": "@jupyter-widgets/controls"
          }
        },
        "24b830a025b340a6a92088eaaea3aa64": {
          "model_module": "@jupyter-widgets/base",
          "model_name": "LayoutModel",
          "state": {
            "_view_name": "LayoutView",
            "grid_template_rows": null,
            "right": null,
            "justify_content": null,
            "_view_module": "@jupyter-widgets/base",
            "overflow": null,
            "_model_module_version": "1.2.0",
            "_view_count": null,
            "flex_flow": null,
            "width": null,
            "min_width": null,
            "border": null,
            "align_items": null,
            "bottom": null,
            "_model_module": "@jupyter-widgets/base",
            "top": null,
            "grid_column": null,
            "overflow_y": null,
            "overflow_x": null,
            "grid_auto_flow": null,
            "grid_area": null,
            "grid_template_columns": null,
            "flex": null,
            "_model_name": "LayoutModel",
            "justify_items": null,
            "grid_row": null,
            "max_height": null,
            "align_content": null,
            "visibility": null,
            "align_self": null,
            "height": null,
            "min_height": null,
            "padding": null,
            "grid_auto_rows": null,
            "grid_gap": null,
            "max_width": null,
            "order": null,
            "_view_module_version": "1.2.0",
            "grid_template_areas": null,
            "object_position": null,
            "object_fit": null,
            "grid_auto_columns": null,
            "margin": null,
            "display": null,
            "left": null
          }
        },
        "7ae5d637e6014e1f933ee2dc31543989": {
          "model_module": "@jupyter-widgets/controls",
          "model_name": "DescriptionStyleModel",
          "state": {
            "_view_name": "StyleView",
            "_model_name": "DescriptionStyleModel",
            "description_width": "",
            "_view_module": "@jupyter-widgets/base",
            "_model_module_version": "1.5.0",
            "_view_count": null,
            "_view_module_version": "1.2.0",
            "_model_module": "@jupyter-widgets/controls"
          }
        },
        "86e009cbf8014a52a05a71bce06a2cdd": {
          "model_module": "@jupyter-widgets/base",
          "model_name": "LayoutModel",
          "state": {
            "_view_name": "LayoutView",
            "grid_template_rows": null,
            "right": null,
            "justify_content": null,
            "_view_module": "@jupyter-widgets/base",
            "overflow": null,
            "_model_module_version": "1.2.0",
            "_view_count": null,
            "flex_flow": null,
            "width": null,
            "min_width": null,
            "border": null,
            "align_items": null,
            "bottom": null,
            "_model_module": "@jupyter-widgets/base",
            "top": null,
            "grid_column": null,
            "overflow_y": null,
            "overflow_x": null,
            "grid_auto_flow": null,
            "grid_area": null,
            "grid_template_columns": null,
            "flex": null,
            "_model_name": "LayoutModel",
            "justify_items": null,
            "grid_row": null,
            "max_height": null,
            "align_content": null,
            "visibility": null,
            "align_self": null,
            "height": null,
            "min_height": null,
            "padding": null,
            "grid_auto_rows": null,
            "grid_gap": null,
            "max_width": null,
            "order": null,
            "_view_module_version": "1.2.0",
            "grid_template_areas": null,
            "object_position": null,
            "object_fit": null,
            "grid_auto_columns": null,
            "margin": null,
            "display": null,
            "left": null
          }
        },
        "dd135c98ad2e46a19daea387a2f80940": {
          "model_module": "@jupyter-widgets/controls",
          "model_name": "HBoxModel",
          "state": {
            "_view_name": "HBoxView",
            "_dom_classes": [],
            "_model_name": "HBoxModel",
            "_view_module": "@jupyter-widgets/controls",
            "_model_module_version": "1.5.0",
            "_view_count": null,
            "_view_module_version": "1.5.0",
            "box_style": "",
            "layout": "IPY_MODEL_7dab0d5182d548d9b31376eef04f8cb6",
            "_model_module": "@jupyter-widgets/controls",
            "children": [
              "IPY_MODEL_9565e14821dd44de98d5fbd0a132eec7",
              "IPY_MODEL_0b0c08bbd13247e7b8418d5fb85bfc20"
            ]
          }
        },
        "7dab0d5182d548d9b31376eef04f8cb6": {
          "model_module": "@jupyter-widgets/base",
          "model_name": "LayoutModel",
          "state": {
            "_view_name": "LayoutView",
            "grid_template_rows": null,
            "right": null,
            "justify_content": null,
            "_view_module": "@jupyter-widgets/base",
            "overflow": null,
            "_model_module_version": "1.2.0",
            "_view_count": null,
            "flex_flow": null,
            "width": null,
            "min_width": null,
            "border": null,
            "align_items": null,
            "bottom": null,
            "_model_module": "@jupyter-widgets/base",
            "top": null,
            "grid_column": null,
            "overflow_y": null,
            "overflow_x": null,
            "grid_auto_flow": null,
            "grid_area": null,
            "grid_template_columns": null,
            "flex": null,
            "_model_name": "LayoutModel",
            "justify_items": null,
            "grid_row": null,
            "max_height": null,
            "align_content": null,
            "visibility": null,
            "align_self": null,
            "height": null,
            "min_height": null,
            "padding": null,
            "grid_auto_rows": null,
            "grid_gap": null,
            "max_width": null,
            "order": null,
            "_view_module_version": "1.2.0",
            "grid_template_areas": null,
            "object_position": null,
            "object_fit": null,
            "grid_auto_columns": null,
            "margin": null,
            "display": null,
            "left": null
          }
        },
        "9565e14821dd44de98d5fbd0a132eec7": {
          "model_module": "@jupyter-widgets/controls",
          "model_name": "IntProgressModel",
          "state": {
            "_view_name": "ProgressView",
            "style": "IPY_MODEL_abc099a7378343c8b2302c1ae52b5e03",
            "_dom_classes": [],
            "description": "  0%",
            "_model_name": "IntProgressModel",
            "bar_style": "info",
            "max": 1,
            "_view_module": "@jupyter-widgets/controls",
            "_model_module_version": "1.5.0",
            "value": 0,
            "_view_count": null,
            "_view_module_version": "1.5.0",
            "orientation": "horizontal",
            "min": 0,
            "description_tooltip": null,
            "_model_module": "@jupyter-widgets/controls",
            "layout": "IPY_MODEL_46a53c4ada2b424d966876c5f2d7e34b"
          }
        },
        "0b0c08bbd13247e7b8418d5fb85bfc20": {
          "model_module": "@jupyter-widgets/controls",
          "model_name": "HTMLModel",
          "state": {
            "_view_name": "HTMLView",
            "style": "IPY_MODEL_dbdd9d1663204c6a8b7e8f73f82428f3",
            "_dom_classes": [],
            "description": "",
            "_model_name": "HTMLModel",
            "placeholder": "​",
            "_view_module": "@jupyter-widgets/controls",
            "_model_module_version": "1.5.0",
            "value": " 0/28881 [00:00&lt;?, ?it/s]",
            "_view_count": null,
            "_view_module_version": "1.5.0",
            "description_tooltip": null,
            "_model_module": "@jupyter-widgets/controls",
            "layout": "IPY_MODEL_2cc6629d78ec41c0836d41615a4db623"
          }
        },
        "abc099a7378343c8b2302c1ae52b5e03": {
          "model_module": "@jupyter-widgets/controls",
          "model_name": "ProgressStyleModel",
          "state": {
            "_view_name": "StyleView",
            "_model_name": "ProgressStyleModel",
            "description_width": "initial",
            "_view_module": "@jupyter-widgets/base",
            "_model_module_version": "1.5.0",
            "_view_count": null,
            "_view_module_version": "1.2.0",
            "bar_color": null,
            "_model_module": "@jupyter-widgets/controls"
          }
        },
        "46a53c4ada2b424d966876c5f2d7e34b": {
          "model_module": "@jupyter-widgets/base",
          "model_name": "LayoutModel",
          "state": {
            "_view_name": "LayoutView",
            "grid_template_rows": null,
            "right": null,
            "justify_content": null,
            "_view_module": "@jupyter-widgets/base",
            "overflow": null,
            "_model_module_version": "1.2.0",
            "_view_count": null,
            "flex_flow": null,
            "width": null,
            "min_width": null,
            "border": null,
            "align_items": null,
            "bottom": null,
            "_model_module": "@jupyter-widgets/base",
            "top": null,
            "grid_column": null,
            "overflow_y": null,
            "overflow_x": null,
            "grid_auto_flow": null,
            "grid_area": null,
            "grid_template_columns": null,
            "flex": null,
            "_model_name": "LayoutModel",
            "justify_items": null,
            "grid_row": null,
            "max_height": null,
            "align_content": null,
            "visibility": null,
            "align_self": null,
            "height": null,
            "min_height": null,
            "padding": null,
            "grid_auto_rows": null,
            "grid_gap": null,
            "max_width": null,
            "order": null,
            "_view_module_version": "1.2.0",
            "grid_template_areas": null,
            "object_position": null,
            "object_fit": null,
            "grid_auto_columns": null,
            "margin": null,
            "display": null,
            "left": null
          }
        },
        "dbdd9d1663204c6a8b7e8f73f82428f3": {
          "model_module": "@jupyter-widgets/controls",
          "model_name": "DescriptionStyleModel",
          "state": {
            "_view_name": "StyleView",
            "_model_name": "DescriptionStyleModel",
            "description_width": "",
            "_view_module": "@jupyter-widgets/base",
            "_model_module_version": "1.5.0",
            "_view_count": null,
            "_view_module_version": "1.2.0",
            "_model_module": "@jupyter-widgets/controls"
          }
        },
        "2cc6629d78ec41c0836d41615a4db623": {
          "model_module": "@jupyter-widgets/base",
          "model_name": "LayoutModel",
          "state": {
            "_view_name": "LayoutView",
            "grid_template_rows": null,
            "right": null,
            "justify_content": null,
            "_view_module": "@jupyter-widgets/base",
            "overflow": null,
            "_model_module_version": "1.2.0",
            "_view_count": null,
            "flex_flow": null,
            "width": null,
            "min_width": null,
            "border": null,
            "align_items": null,
            "bottom": null,
            "_model_module": "@jupyter-widgets/base",
            "top": null,
            "grid_column": null,
            "overflow_y": null,
            "overflow_x": null,
            "grid_auto_flow": null,
            "grid_area": null,
            "grid_template_columns": null,
            "flex": null,
            "_model_name": "LayoutModel",
            "justify_items": null,
            "grid_row": null,
            "max_height": null,
            "align_content": null,
            "visibility": null,
            "align_self": null,
            "height": null,
            "min_height": null,
            "padding": null,
            "grid_auto_rows": null,
            "grid_gap": null,
            "max_width": null,
            "order": null,
            "_view_module_version": "1.2.0",
            "grid_template_areas": null,
            "object_position": null,
            "object_fit": null,
            "grid_auto_columns": null,
            "margin": null,
            "display": null,
            "left": null
          }
        },
        "348f81b828884b759887ab83801fc30a": {
          "model_module": "@jupyter-widgets/controls",
          "model_name": "HBoxModel",
          "state": {
            "_view_name": "HBoxView",
            "_dom_classes": [],
            "_model_name": "HBoxModel",
            "_view_module": "@jupyter-widgets/controls",
            "_model_module_version": "1.5.0",
            "_view_count": null,
            "_view_module_version": "1.5.0",
            "box_style": "",
            "layout": "IPY_MODEL_10f3d8171c764f19aad43e644947157f",
            "_model_module": "@jupyter-widgets/controls",
            "children": [
              "IPY_MODEL_1402d3b8e301493abceb2fb5774583da",
              "IPY_MODEL_1cb2acd8e95f4e1d9fecaab788fc03de"
            ]
          }
        },
        "10f3d8171c764f19aad43e644947157f": {
          "model_module": "@jupyter-widgets/base",
          "model_name": "LayoutModel",
          "state": {
            "_view_name": "LayoutView",
            "grid_template_rows": null,
            "right": null,
            "justify_content": null,
            "_view_module": "@jupyter-widgets/base",
            "overflow": null,
            "_model_module_version": "1.2.0",
            "_view_count": null,
            "flex_flow": null,
            "width": null,
            "min_width": null,
            "border": null,
            "align_items": null,
            "bottom": null,
            "_model_module": "@jupyter-widgets/base",
            "top": null,
            "grid_column": null,
            "overflow_y": null,
            "overflow_x": null,
            "grid_auto_flow": null,
            "grid_area": null,
            "grid_template_columns": null,
            "flex": null,
            "_model_name": "LayoutModel",
            "justify_items": null,
            "grid_row": null,
            "max_height": null,
            "align_content": null,
            "visibility": null,
            "align_self": null,
            "height": null,
            "min_height": null,
            "padding": null,
            "grid_auto_rows": null,
            "grid_gap": null,
            "max_width": null,
            "order": null,
            "_view_module_version": "1.2.0",
            "grid_template_areas": null,
            "object_position": null,
            "object_fit": null,
            "grid_auto_columns": null,
            "margin": null,
            "display": null,
            "left": null
          }
        },
        "1402d3b8e301493abceb2fb5774583da": {
          "model_module": "@jupyter-widgets/controls",
          "model_name": "IntProgressModel",
          "state": {
            "_view_name": "ProgressView",
            "style": "IPY_MODEL_efc270c5c57245068332f89c9a2f732d",
            "_dom_classes": [],
            "description": "",
            "_model_name": "IntProgressModel",
            "bar_style": "success",
            "max": 1,
            "_view_module": "@jupyter-widgets/controls",
            "_model_module_version": "1.5.0",
            "value": 1,
            "_view_count": null,
            "_view_module_version": "1.5.0",
            "orientation": "horizontal",
            "min": 0,
            "description_tooltip": null,
            "_model_module": "@jupyter-widgets/controls",
            "layout": "IPY_MODEL_eabc1aebce91419a831889fe37c38585"
          }
        },
        "1cb2acd8e95f4e1d9fecaab788fc03de": {
          "model_module": "@jupyter-widgets/controls",
          "model_name": "HTMLModel",
          "state": {
            "_view_name": "HTMLView",
            "style": "IPY_MODEL_02d516756ccf44ef8342112648675a22",
            "_dom_classes": [],
            "description": "",
            "_model_name": "HTMLModel",
            "placeholder": "​",
            "_view_module": "@jupyter-widgets/controls",
            "_model_module_version": "1.5.0",
            "value": " 1654784/? [00:00&lt;00:00, 1721874.78it/s]",
            "_view_count": null,
            "_view_module_version": "1.5.0",
            "description_tooltip": null,
            "_model_module": "@jupyter-widgets/controls",
            "layout": "IPY_MODEL_5dc787b563bd4b4c8c71210a61cca2b1"
          }
        },
        "efc270c5c57245068332f89c9a2f732d": {
          "model_module": "@jupyter-widgets/controls",
          "model_name": "ProgressStyleModel",
          "state": {
            "_view_name": "StyleView",
            "_model_name": "ProgressStyleModel",
            "description_width": "initial",
            "_view_module": "@jupyter-widgets/base",
            "_model_module_version": "1.5.0",
            "_view_count": null,
            "_view_module_version": "1.2.0",
            "bar_color": null,
            "_model_module": "@jupyter-widgets/controls"
          }
        },
        "eabc1aebce91419a831889fe37c38585": {
          "model_module": "@jupyter-widgets/base",
          "model_name": "LayoutModel",
          "state": {
            "_view_name": "LayoutView",
            "grid_template_rows": null,
            "right": null,
            "justify_content": null,
            "_view_module": "@jupyter-widgets/base",
            "overflow": null,
            "_model_module_version": "1.2.0",
            "_view_count": null,
            "flex_flow": null,
            "width": null,
            "min_width": null,
            "border": null,
            "align_items": null,
            "bottom": null,
            "_model_module": "@jupyter-widgets/base",
            "top": null,
            "grid_column": null,
            "overflow_y": null,
            "overflow_x": null,
            "grid_auto_flow": null,
            "grid_area": null,
            "grid_template_columns": null,
            "flex": null,
            "_model_name": "LayoutModel",
            "justify_items": null,
            "grid_row": null,
            "max_height": null,
            "align_content": null,
            "visibility": null,
            "align_self": null,
            "height": null,
            "min_height": null,
            "padding": null,
            "grid_auto_rows": null,
            "grid_gap": null,
            "max_width": null,
            "order": null,
            "_view_module_version": "1.2.0",
            "grid_template_areas": null,
            "object_position": null,
            "object_fit": null,
            "grid_auto_columns": null,
            "margin": null,
            "display": null,
            "left": null
          }
        },
        "02d516756ccf44ef8342112648675a22": {
          "model_module": "@jupyter-widgets/controls",
          "model_name": "DescriptionStyleModel",
          "state": {
            "_view_name": "StyleView",
            "_model_name": "DescriptionStyleModel",
            "description_width": "",
            "_view_module": "@jupyter-widgets/base",
            "_model_module_version": "1.5.0",
            "_view_count": null,
            "_view_module_version": "1.2.0",
            "_model_module": "@jupyter-widgets/controls"
          }
        },
        "5dc787b563bd4b4c8c71210a61cca2b1": {
          "model_module": "@jupyter-widgets/base",
          "model_name": "LayoutModel",
          "state": {
            "_view_name": "LayoutView",
            "grid_template_rows": null,
            "right": null,
            "justify_content": null,
            "_view_module": "@jupyter-widgets/base",
            "overflow": null,
            "_model_module_version": "1.2.0",
            "_view_count": null,
            "flex_flow": null,
            "width": null,
            "min_width": null,
            "border": null,
            "align_items": null,
            "bottom": null,
            "_model_module": "@jupyter-widgets/base",
            "top": null,
            "grid_column": null,
            "overflow_y": null,
            "overflow_x": null,
            "grid_auto_flow": null,
            "grid_area": null,
            "grid_template_columns": null,
            "flex": null,
            "_model_name": "LayoutModel",
            "justify_items": null,
            "grid_row": null,
            "max_height": null,
            "align_content": null,
            "visibility": null,
            "align_self": null,
            "height": null,
            "min_height": null,
            "padding": null,
            "grid_auto_rows": null,
            "grid_gap": null,
            "max_width": null,
            "order": null,
            "_view_module_version": "1.2.0",
            "grid_template_areas": null,
            "object_position": null,
            "object_fit": null,
            "grid_auto_columns": null,
            "margin": null,
            "display": null,
            "left": null
          }
        },
        "fc0a0f5a964f4353991e873dd59071f4": {
          "model_module": "@jupyter-widgets/controls",
          "model_name": "HBoxModel",
          "state": {
            "_view_name": "HBoxView",
            "_dom_classes": [],
            "_model_name": "HBoxModel",
            "_view_module": "@jupyter-widgets/controls",
            "_model_module_version": "1.5.0",
            "_view_count": null,
            "_view_module_version": "1.5.0",
            "box_style": "",
            "layout": "IPY_MODEL_0182ccc3325443e79f1c961a09f64ea3",
            "_model_module": "@jupyter-widgets/controls",
            "children": [
              "IPY_MODEL_fe8ec4403e124dcab110c9b35b1f3990",
              "IPY_MODEL_a46bbfc8c03643e69b149e3c3c4cd0ff"
            ]
          }
        },
        "0182ccc3325443e79f1c961a09f64ea3": {
          "model_module": "@jupyter-widgets/base",
          "model_name": "LayoutModel",
          "state": {
            "_view_name": "LayoutView",
            "grid_template_rows": null,
            "right": null,
            "justify_content": null,
            "_view_module": "@jupyter-widgets/base",
            "overflow": null,
            "_model_module_version": "1.2.0",
            "_view_count": null,
            "flex_flow": null,
            "width": null,
            "min_width": null,
            "border": null,
            "align_items": null,
            "bottom": null,
            "_model_module": "@jupyter-widgets/base",
            "top": null,
            "grid_column": null,
            "overflow_y": null,
            "overflow_x": null,
            "grid_auto_flow": null,
            "grid_area": null,
            "grid_template_columns": null,
            "flex": null,
            "_model_name": "LayoutModel",
            "justify_items": null,
            "grid_row": null,
            "max_height": null,
            "align_content": null,
            "visibility": null,
            "align_self": null,
            "height": null,
            "min_height": null,
            "padding": null,
            "grid_auto_rows": null,
            "grid_gap": null,
            "max_width": null,
            "order": null,
            "_view_module_version": "1.2.0",
            "grid_template_areas": null,
            "object_position": null,
            "object_fit": null,
            "grid_auto_columns": null,
            "margin": null,
            "display": null,
            "left": null
          }
        },
        "fe8ec4403e124dcab110c9b35b1f3990": {
          "model_module": "@jupyter-widgets/controls",
          "model_name": "IntProgressModel",
          "state": {
            "_view_name": "ProgressView",
            "style": "IPY_MODEL_98cc18b60f1b44ddb5d37fb4ac6049b2",
            "_dom_classes": [],
            "description": "",
            "_model_name": "IntProgressModel",
            "bar_style": "success",
            "max": 1,
            "_view_module": "@jupyter-widgets/controls",
            "_model_module_version": "1.5.0",
            "value": 1,
            "_view_count": null,
            "_view_module_version": "1.5.0",
            "orientation": "horizontal",
            "min": 0,
            "description_tooltip": null,
            "_model_module": "@jupyter-widgets/controls",
            "layout": "IPY_MODEL_ce4fa0e9cded4ef8baecac8a483b5dc6"
          }
        },
        "a46bbfc8c03643e69b149e3c3c4cd0ff": {
          "model_module": "@jupyter-widgets/controls",
          "model_name": "HTMLModel",
          "state": {
            "_view_name": "HTMLView",
            "style": "IPY_MODEL_de7489392dff49c8b9c7f4b35d260f41",
            "_dom_classes": [],
            "description": "",
            "_model_name": "HTMLModel",
            "placeholder": "​",
            "_view_module": "@jupyter-widgets/controls",
            "_model_module_version": "1.5.0",
            "value": " 8192/? [00:00&lt;00:00, 23764.91it/s]",
            "_view_count": null,
            "_view_module_version": "1.5.0",
            "description_tooltip": null,
            "_model_module": "@jupyter-widgets/controls",
            "layout": "IPY_MODEL_8550f501b66e4634861b54eff12cf4df"
          }
        },
        "98cc18b60f1b44ddb5d37fb4ac6049b2": {
          "model_module": "@jupyter-widgets/controls",
          "model_name": "ProgressStyleModel",
          "state": {
            "_view_name": "StyleView",
            "_model_name": "ProgressStyleModel",
            "description_width": "initial",
            "_view_module": "@jupyter-widgets/base",
            "_model_module_version": "1.5.0",
            "_view_count": null,
            "_view_module_version": "1.2.0",
            "bar_color": null,
            "_model_module": "@jupyter-widgets/controls"
          }
        },
        "ce4fa0e9cded4ef8baecac8a483b5dc6": {
          "model_module": "@jupyter-widgets/base",
          "model_name": "LayoutModel",
          "state": {
            "_view_name": "LayoutView",
            "grid_template_rows": null,
            "right": null,
            "justify_content": null,
            "_view_module": "@jupyter-widgets/base",
            "overflow": null,
            "_model_module_version": "1.2.0",
            "_view_count": null,
            "flex_flow": null,
            "width": null,
            "min_width": null,
            "border": null,
            "align_items": null,
            "bottom": null,
            "_model_module": "@jupyter-widgets/base",
            "top": null,
            "grid_column": null,
            "overflow_y": null,
            "overflow_x": null,
            "grid_auto_flow": null,
            "grid_area": null,
            "grid_template_columns": null,
            "flex": null,
            "_model_name": "LayoutModel",
            "justify_items": null,
            "grid_row": null,
            "max_height": null,
            "align_content": null,
            "visibility": null,
            "align_self": null,
            "height": null,
            "min_height": null,
            "padding": null,
            "grid_auto_rows": null,
            "grid_gap": null,
            "max_width": null,
            "order": null,
            "_view_module_version": "1.2.0",
            "grid_template_areas": null,
            "object_position": null,
            "object_fit": null,
            "grid_auto_columns": null,
            "margin": null,
            "display": null,
            "left": null
          }
        },
        "de7489392dff49c8b9c7f4b35d260f41": {
          "model_module": "@jupyter-widgets/controls",
          "model_name": "DescriptionStyleModel",
          "state": {
            "_view_name": "StyleView",
            "_model_name": "DescriptionStyleModel",
            "description_width": "",
            "_view_module": "@jupyter-widgets/base",
            "_model_module_version": "1.5.0",
            "_view_count": null,
            "_view_module_version": "1.2.0",
            "_model_module": "@jupyter-widgets/controls"
          }
        },
        "8550f501b66e4634861b54eff12cf4df": {
          "model_module": "@jupyter-widgets/base",
          "model_name": "LayoutModel",
          "state": {
            "_view_name": "LayoutView",
            "grid_template_rows": null,
            "right": null,
            "justify_content": null,
            "_view_module": "@jupyter-widgets/base",
            "overflow": null,
            "_model_module_version": "1.2.0",
            "_view_count": null,
            "flex_flow": null,
            "width": null,
            "min_width": null,
            "border": null,
            "align_items": null,
            "bottom": null,
            "_model_module": "@jupyter-widgets/base",
            "top": null,
            "grid_column": null,
            "overflow_y": null,
            "overflow_x": null,
            "grid_auto_flow": null,
            "grid_area": null,
            "grid_template_columns": null,
            "flex": null,
            "_model_name": "LayoutModel",
            "justify_items": null,
            "grid_row": null,
            "max_height": null,
            "align_content": null,
            "visibility": null,
            "align_self": null,
            "height": null,
            "min_height": null,
            "padding": null,
            "grid_auto_rows": null,
            "grid_gap": null,
            "max_width": null,
            "order": null,
            "_view_module_version": "1.2.0",
            "grid_template_areas": null,
            "object_position": null,
            "object_fit": null,
            "grid_auto_columns": null,
            "margin": null,
            "display": null,
            "left": null
          }
        }
      }
    }
  },
  "cells": [
    {
      "cell_type": "markdown",
      "metadata": {
        "id": "4CPzCxWXTG-0",
        "colab_type": "text"
      },
      "source": [
        "# In Class Exercise 8.1\n",
        "\n",
        "We first import our framework. Since we are already familiar with pytorch, we will use the torch library. This will make it easy for us since we can use functions and classes other coders have already implemented."
      ]
    },
    {
      "cell_type": "code",
      "metadata": {
        "id": "DxzQRNHPTHaL",
        "colab_type": "code",
        "colab": {}
      },
      "source": [
        "import os, time\n",
        "import matplotlib.pyplot as plt\n",
        "import itertools\n",
        "import pickle\n",
        "import imageio\n",
        "import torch\n",
        "import torch.nn as nn\n",
        "import torch.nn.functional as F\n",
        "import torch.optim as optim\n",
        "from torchvision import datasets, transforms\n",
        "from torch.autograd import Variable\n",
        "from torchvision.utils import save_image, make_grid\n",
        "import numpy as np\n",
        "import cv2"
      ],
      "execution_count": 0,
      "outputs": []
    },
    {
      "cell_type": "markdown",
      "metadata": {
        "id": "4ssfLeHSGNtb",
        "colab_type": "text"
      },
      "source": [
        "### Define the hyper-parameter and load the training dataset\n",
        "\n",
        "hyperparameters we define in here\n",
        "\n",
        "- img_size\n",
        "- batch_size (how big is one batch. This splits our dataset into equal pieces that we will feed into our neural network)\n",
        "- train_epoch (How long will we train)\n",
        "- learning rate\n",
        "- dataset we will use\n"
      ]
    },
    {
      "cell_type": "code",
      "metadata": {
        "id": "imhsH0AnHQKN",
        "colab_type": "code",
        "outputId": "cb7eb4f6-5c22-465a-f218-d54708e26df7",
        "colab": {
          "base_uri": "https://localhost:8080/",
          "height": 319,
          "referenced_widgets": [
            "452bbd31fa864ad39d93a2a0f33ef570",
            "2b973ad466184633af2b4614cf38cc5f",
            "c15779c776c84537af9b339c1258435c",
            "e1802bfd18684b05a19bca9e6a8caf97",
            "c1a01529fb9c4266a2809ff4f62afa34",
            "24b830a025b340a6a92088eaaea3aa64",
            "7ae5d637e6014e1f933ee2dc31543989",
            "86e009cbf8014a52a05a71bce06a2cdd",
            "dd135c98ad2e46a19daea387a2f80940",
            "7dab0d5182d548d9b31376eef04f8cb6",
            "9565e14821dd44de98d5fbd0a132eec7",
            "0b0c08bbd13247e7b8418d5fb85bfc20",
            "abc099a7378343c8b2302c1ae52b5e03",
            "46a53c4ada2b424d966876c5f2d7e34b",
            "dbdd9d1663204c6a8b7e8f73f82428f3",
            "2cc6629d78ec41c0836d41615a4db623",
            "348f81b828884b759887ab83801fc30a",
            "10f3d8171c764f19aad43e644947157f",
            "1402d3b8e301493abceb2fb5774583da",
            "1cb2acd8e95f4e1d9fecaab788fc03de",
            "efc270c5c57245068332f89c9a2f732d",
            "eabc1aebce91419a831889fe37c38585",
            "02d516756ccf44ef8342112648675a22",
            "5dc787b563bd4b4c8c71210a61cca2b1",
            "fc0a0f5a964f4353991e873dd59071f4",
            "0182ccc3325443e79f1c961a09f64ea3",
            "fe8ec4403e124dcab110c9b35b1f3990",
            "a46bbfc8c03643e69b149e3c3c4cd0ff",
            "98cc18b60f1b44ddb5d37fb4ac6049b2",
            "ce4fa0e9cded4ef8baecac8a483b5dc6",
            "de7489392dff49c8b9c7f4b35d260f41",
            "8550f501b66e4634861b54eff12cf4df"
          ]
        }
      },
      "source": [
        "# training parameters\n",
        "batch_size = 128\n",
        "lr = 0.0002\n",
        "train_epoch = 10\n",
        "\n",
        "# data_loader\n",
        "img_size = 32\n",
        "transform = transforms.Compose([\n",
        "        transforms.Resize(img_size),\n",
        "        transforms.ToTensor(),\n",
        "        transforms.Normalize([0.5], [0.5])\n",
        "])\n",
        "\n",
        "train_loader = torch.utils.data.DataLoader(\n",
        "    datasets.MNIST('data', train=True, download=True, transform=transform),\n",
        "    batch_size=batch_size, shuffle=True)"
      ],
      "execution_count": 2,
      "outputs": [
        {
          "output_type": "stream",
          "text": [
            "Downloading http://yann.lecun.com/exdb/mnist/train-images-idx3-ubyte.gz to data/MNIST/raw/train-images-idx3-ubyte.gz\n"
          ],
          "name": "stdout"
        },
        {
          "output_type": "display_data",
          "data": {
            "application/vnd.jupyter.widget-view+json": {
              "model_id": "452bbd31fa864ad39d93a2a0f33ef570",
              "version_minor": 0,
              "version_major": 2
            },
            "text/plain": [
              "HBox(children=(IntProgress(value=1, bar_style='info', max=1), HTML(value='')))"
            ]
          },
          "metadata": {
            "tags": []
          }
        },
        {
          "output_type": "stream",
          "text": [
            "Extracting data/MNIST/raw/train-images-idx3-ubyte.gz to data/MNIST/raw\n",
            "Downloading http://yann.lecun.com/exdb/mnist/train-labels-idx1-ubyte.gz to data/MNIST/raw/train-labels-idx1-ubyte.gz\n"
          ],
          "name": "stdout"
        },
        {
          "output_type": "display_data",
          "data": {
            "application/vnd.jupyter.widget-view+json": {
              "model_id": "dd135c98ad2e46a19daea387a2f80940",
              "version_minor": 0,
              "version_major": 2
            },
            "text/plain": [
              "HBox(children=(IntProgress(value=1, bar_style='info', max=1), HTML(value='')))"
            ]
          },
          "metadata": {
            "tags": []
          }
        },
        {
          "output_type": "stream",
          "text": [
            "Extracting data/MNIST/raw/train-labels-idx1-ubyte.gz to data/MNIST/raw\n",
            "Downloading http://yann.lecun.com/exdb/mnist/t10k-images-idx3-ubyte.gz to data/MNIST/raw/t10k-images-idx3-ubyte.gz\n"
          ],
          "name": "stdout"
        },
        {
          "output_type": "display_data",
          "data": {
            "application/vnd.jupyter.widget-view+json": {
              "model_id": "348f81b828884b759887ab83801fc30a",
              "version_minor": 0,
              "version_major": 2
            },
            "text/plain": [
              "HBox(children=(IntProgress(value=1, bar_style='info', max=1), HTML(value='')))"
            ]
          },
          "metadata": {
            "tags": []
          }
        },
        {
          "output_type": "stream",
          "text": [
            "Extracting data/MNIST/raw/t10k-images-idx3-ubyte.gz to data/MNIST/raw\n",
            "Downloading http://yann.lecun.com/exdb/mnist/t10k-labels-idx1-ubyte.gz to data/MNIST/raw/t10k-labels-idx1-ubyte.gz\n"
          ],
          "name": "stdout"
        },
        {
          "output_type": "display_data",
          "data": {
            "application/vnd.jupyter.widget-view+json": {
              "model_id": "fc0a0f5a964f4353991e873dd59071f4",
              "version_minor": 0,
              "version_major": 2
            },
            "text/plain": [
              "HBox(children=(IntProgress(value=1, bar_style='info', max=1), HTML(value='')))"
            ]
          },
          "metadata": {
            "tags": []
          }
        },
        {
          "output_type": "stream",
          "text": [
            "Extracting data/MNIST/raw/t10k-labels-idx1-ubyte.gz to data/MNIST/raw\n",
            "Processing...\n",
            "Done!\n"
          ],
          "name": "stdout"
        }
      ]
    },
    {
      "cell_type": "markdown",
      "metadata": {
        "id": "O8KWyhskHCls",
        "colab_type": "text"
      },
      "source": [
        "In here we are defining some functions that we will use later. Functions are very useful and you should write your functions whenever your code benefits from it. You should always declare your functions first in your script.\n",
        "\n",
        "- normal_init (we will use this function to initialize our weights)\n",
        "- show_result (outputs the images to a .png image)\n",
        "- show the loss curve"
      ]
    },
    {
      "cell_type": "code",
      "metadata": {
        "id": "FgtuRMcQTOZy",
        "colab_type": "code",
        "outputId": "369e6ce3-b36e-4a34-9a58-88eee9af1e4b",
        "colab": {
          "base_uri": "https://localhost:8080/",
          "height": 52
        }
      },
      "source": [
        "def normal_init(m, mean, std):\n",
        "    if isinstance(m, nn.ConvTranspose2d) or isinstance(m, nn.Conv2d):\n",
        "        m.weight.data.normal_(mean, std)\n",
        "        m.bias.data.zero_()\n",
        "\n",
        "# fixed noise & label\n",
        "temp_z_ = torch.randn(10, 100)\n",
        "fixed_z_ = temp_z_\n",
        "fixed_y_ = torch.zeros(10, 1)\n",
        "for i in range(9):\n",
        "    fixed_z_ = torch.cat([fixed_z_, temp_z_], 0)\n",
        "    temp = torch.ones(10, 1) + i\n",
        "    fixed_y_ = torch.cat([fixed_y_, temp], 0)\n",
        "\n",
        "fixed_z_ = fixed_z_.view(-1, 100, 1, 1)\n",
        "fixed_y_label_ = torch.zeros(100, 10)\n",
        "fixed_y_label_.scatter_(1, fixed_y_.type(torch.LongTensor), 1)\n",
        "fixed_y_label_ = fixed_y_label_.view(-1, 10, 1, 1)\n",
        "fixed_z_, fixed_y_label_ = Variable(fixed_z_.cuda()), Variable(fixed_y_label_.cuda())\n",
        "\n",
        "def show_result(num_epoch, show = False, save = False, path = 'result.png'):\n",
        "\n",
        "    G.eval()\n",
        "    with torch.no_grad():\n",
        "      test_images = G(fixed_z_, fixed_y_label_)\n",
        "    G.train()\n",
        "\n",
        "    size_figure_grid = 10\n",
        "    fig, ax = plt.subplots(size_figure_grid, size_figure_grid, figsize=(5, 5))\n",
        "    for i, j in itertools.product(range(size_figure_grid), range(size_figure_grid)):\n",
        "        ax[i, j].get_xaxis().set_visible(False)\n",
        "        ax[i, j].get_yaxis().set_visible(False)\n",
        "\n",
        "    for k in range(10*10):\n",
        "        i = k // 10\n",
        "        j = k % 10\n",
        "        ax[i, j].cla()\n",
        "        ax[i, j].imshow(test_images[k, 0].cpu().data.numpy(), cmap='gray')\n",
        "\n",
        "    label = 'Epoch {0}'.format(num_epoch)\n",
        "    fig.text(0.5, 0.04, label, ha='center')\n",
        "    plt.savefig(path)\n",
        "\n",
        "    if show:\n",
        "        plt.show()\n",
        "    else:\n",
        "        plt.close()\n",
        "\n",
        "def show_train_hist(hist, show = True, save = False, path = 'Train_hist.png'):\n",
        "    x = range(len(hist['D_losses']))\n",
        "\n",
        "    y1 = hist['D_losses']\n",
        "    y2 = hist['G_losses']\n",
        "\n",
        "    plt.plot(x, y1, label='D_loss')\n",
        "    plt.plot(x, y2, label='G_loss')\n",
        "\n",
        "    plt.xlabel('Epoch')\n",
        "    plt.ylabel('Loss')\n",
        "\n",
        "    plt.legend(loc=4)\n",
        "    plt.grid(True)\n",
        "    plt.tight_layout()\n",
        "\n",
        "    if save:\n",
        "        plt.savefig(path)\n",
        "\n",
        "    if show:\n",
        "        plt.show()\n",
        "    else:\n",
        "        plt.close()\n"
      ],
      "execution_count": 3,
      "outputs": [
        {
          "output_type": "stream",
          "text": [
            "\n",
            "\n"
          ],
          "name": "stdout"
        }
      ]
    },
    {
      "cell_type": "markdown",
      "metadata": {
        "id": "E68q6m61HrmB",
        "colab_type": "text"
      },
      "source": [
        "# Define the generator and discriminator"
      ]
    },
    {
      "cell_type": "code",
      "metadata": {
        "id": "Flrj573EHmF3",
        "colab_type": "code",
        "colab": {}
      },
      "source": [
        "# G(z)\n",
        "class generator(nn.Module):\n",
        "    # initializers\n",
        "    def __init__(self, d=128):\n",
        "        super(generator, self).__init__()\n",
        "        self.deconv1_1 = nn.ConvTranspose2d(100, d*2, 4, 1, 0)\n",
        "        self.deconv1_1_bn = nn.BatchNorm2d(d*2)\n",
        "        self.deconv1_2 = nn.ConvTranspose2d(10, d*2, 4, 1, 0)\n",
        "        self.deconv1_2_bn = nn.BatchNorm2d(d*2)\n",
        "        self.deconv2 = nn.ConvTranspose2d(d*4, d*2, 4, 2, 1)\n",
        "        self.deconv2_bn = nn.BatchNorm2d(d*2)\n",
        "        self.deconv3 = nn.ConvTranspose2d(d*2, d, 4, 2, 1)\n",
        "        self.deconv3_bn = nn.BatchNorm2d(d)\n",
        "        self.deconv4 = nn.ConvTranspose2d(d, 1, 4, 2, 1)\n",
        "\n",
        "    # weight_init\n",
        "    def weight_init(self, mean, std):\n",
        "        for m in self._modules:\n",
        "            normal_init(self._modules[m], mean, std)\n",
        "\n",
        "    # forward method\n",
        "    def forward(self, input, label):\n",
        "        x = F.relu(self.deconv1_1_bn(self.deconv1_1(input)))\n",
        "        y = F.relu(self.deconv1_2_bn(self.deconv1_2(label)))\n",
        "        x = torch.cat([x, y], 1)\n",
        "        x = F.relu(self.deconv2_bn(self.deconv2(x)))\n",
        "        x = F.relu(self.deconv3_bn(self.deconv3(x)))\n",
        "        x = F.tanh(self.deconv4(x))\n",
        "\n",
        "        return x\n",
        "\n",
        "class discriminator(nn.Module):\n",
        "    # initializers\n",
        "    def __init__(self, d=128):\n",
        "        super(discriminator, self).__init__()\n",
        "        self.conv1_1 = nn.Conv2d(1, d//2, 4, 2, 1)\n",
        "        self.conv1_2 = nn.Conv2d(10, d//2, 4, 2, 1)\n",
        "        self.conv2 = nn.Conv2d(d, d*2, 4, 2, 1)\n",
        "        self.conv2_bn = nn.BatchNorm2d(d*2)\n",
        "        self.conv3 = nn.Conv2d(d*2, d*4, 4, 2, 1)\n",
        "        self.conv3_bn = nn.BatchNorm2d(d*4)\n",
        "        self.conv4 = nn.Conv2d(d * 4, 1, 4, 1, 0)\n",
        "\n",
        "    # weight_init\n",
        "    def weight_init(self, mean, std):\n",
        "        for m in self._modules:\n",
        "            normal_init(self._modules[m], mean, std)\n",
        "\n",
        "    # forward method\n",
        "    def forward(self, input, label):\n",
        "        x = F.leaky_relu(self.conv1_1(input), 0.2)\n",
        "        y = F.leaky_relu(self.conv1_2(label), 0.2)\n",
        "        x = torch.cat([x, y], 1)\n",
        "        x = F.leaky_relu(self.conv2_bn(self.conv2(x)), 0.2)\n",
        "        x = F.leaky_relu(self.conv3_bn(self.conv3(x)), 0.2)\n",
        "        x = F.sigmoid(self.conv4(x))\n",
        "\n",
        "        return x"
      ],
      "execution_count": 0,
      "outputs": []
    },
    {
      "cell_type": "markdown",
      "metadata": {
        "id": "T25Ec8pCH5zP",
        "colab_type": "text"
      },
      "source": [
        "### Create an instance of our generator and discriminator"
      ]
    },
    {
      "cell_type": "code",
      "metadata": {
        "id": "GM0DbtdtTTim",
        "colab_type": "code",
        "colab": {}
      },
      "source": [
        "# network\n",
        "G = generator(128)\n",
        "D = discriminator(128)\n",
        "\n",
        "G.weight_init(mean=0.0, std=0.02)\n",
        "D.weight_init(mean=0.0, std=0.02)\n",
        "\n",
        "G.cuda()\n",
        "D.cuda()\n",
        "\n",
        "\n",
        "# Binary Cross Entropy loss\n",
        "BCE_loss = nn.BCELoss()"
      ],
      "execution_count": 0,
      "outputs": []
    },
    {
      "cell_type": "markdown",
      "metadata": {
        "id": "6EJ-Q_msINIX",
        "colab_type": "text"
      },
      "source": [
        "### Define which optimizer we will use for the optimization of our neural network"
      ]
    },
    {
      "cell_type": "code",
      "metadata": {
        "id": "4xt2rB8LIKVg",
        "colab_type": "code",
        "colab": {}
      },
      "source": [
        "# Adam optimizer\n",
        "G_optimizer = optim.Adam(G.parameters(), lr=lr, betas=(0.5, 0.999))\n",
        "D_optimizer = optim.Adam(D.parameters(), lr=lr, betas=(0.5, 0.999))"
      ],
      "execution_count": 0,
      "outputs": []
    },
    {
      "cell_type": "markdown",
      "metadata": {
        "id": "DWbPWSR6IfS4",
        "colab_type": "text"
      },
      "source": [
        "### Start to training and save the reconstructed images"
      ]
    },
    {
      "cell_type": "code",
      "metadata": {
        "id": "iNgiGTEpTWHl",
        "colab_type": "code",
        "outputId": "4151c312-e746-46ec-8998-cd6931ede291",
        "colab": {
          "base_uri": "https://localhost:8080/",
          "height": 577
        }
      },
      "source": [
        "# results save folder\n",
        "root = 'cDCGAN_results/'\n",
        "model = 'cDCGAN_'\n",
        "if not os.path.isdir(root):\n",
        "    os.mkdir(root)\n",
        "if not os.path.isdir(root + 'Fixed_results'):\n",
        "    os.mkdir(root + 'Fixed_results')\n",
        "\n",
        "train_hist = {}\n",
        "train_hist['D_losses'] = []\n",
        "train_hist['G_losses'] = []\n",
        "train_hist['per_epoch_ptimes'] = []\n",
        "train_hist['total_ptime'] = []\n",
        "\n",
        "# label preprocess\n",
        "onehot = torch.zeros(10, 10)\n",
        "onehot = onehot.scatter_(1, torch.LongTensor([0, 1, 2, 3, 4, 5, 6, 7, 8, 9]).view(10,1), 1).view(10, 10, 1, 1)\n",
        "fill = torch.zeros([10, 10, img_size, img_size])\n",
        "for i in range(10):\n",
        "    fill[i, i, :, :] = 1\n",
        "\n",
        "print('training start!')\n",
        "start_time = time.time()\n",
        "for epoch in range(train_epoch):\n",
        "    D_losses = []\n",
        "    G_losses = []\n",
        "\n",
        "    epoch_start_time = time.time()\n",
        "    y_real_ = torch.ones(batch_size)\n",
        "    y_fake_ = torch.zeros(batch_size)\n",
        "    y_real_, y_fake_ = Variable(y_real_.cuda()), Variable(y_fake_.cuda())\n",
        "    for x_, y_ in train_loader:\n",
        "        # train discriminator D\n",
        "        D.zero_grad()\n",
        "\n",
        "        mini_batch = x_.size()[0]\n",
        "\n",
        "        if mini_batch != batch_size:\n",
        "            y_real_ = torch.ones(mini_batch)\n",
        "            y_fake_ = torch.zeros(mini_batch)\n",
        "            y_real_, y_fake_ = Variable(y_real_.cuda()), Variable(y_fake_.cuda())\n",
        "\n",
        "        y_fill_ = fill[y_]\n",
        "        y_fill_ = fill[y_]\n",
        "        x_, y_fill_ = Variable(x_.cuda()), Variable(y_fill_.cuda())\n",
        "\n",
        "        D_result = D(x_, y_fill_).squeeze()\n",
        "        D_real_loss = BCE_loss(D_result, y_real_)\n",
        "\n",
        "        z_ = torch.randn((mini_batch, 100)).view(-1, 100, 1, 1)\n",
        "        y_ = (torch.rand(mini_batch, 1) * 10).type(torch.LongTensor).squeeze()\n",
        "        y_label_ = onehot[y_]\n",
        "        y_fill_ = fill[y_]\n",
        "        z_, y_label_, y_fill_ = Variable(z_.cuda()), Variable(y_label_.cuda()), Variable(y_fill_.cuda())\n",
        "\n",
        "        G_result = G(z_, y_label_)\n",
        "        D_result = D(G_result, y_fill_).squeeze()\n",
        "\n",
        "        D_fake_loss = BCE_loss(D_result, y_fake_)\n",
        "        D_fake_score = D_result.data.mean()\n",
        "\n",
        "        D_train_loss = D_real_loss + D_fake_loss\n",
        "\n",
        "        D_train_loss.backward()\n",
        "        D_optimizer.step()\n",
        "\n",
        "        D_losses.append(D_train_loss.data)\n",
        "\n",
        "        # train generator G\n",
        "        G.zero_grad()\n",
        "\n",
        "        z_ = torch.randn((mini_batch, 100)).view(-1, 100, 1, 1)\n",
        "        y_ = (torch.rand(mini_batch, 1) * 10).type(torch.LongTensor).squeeze()\n",
        "        y_label_ = onehot[y_]\n",
        "        y_fill_ = fill[y_]\n",
        "        z_, y_label_, y_fill_ = Variable(z_.cuda()), Variable(y_label_.cuda()), Variable(y_fill_.cuda())\n",
        "\n",
        "        G_result = G(z_, y_label_)\n",
        "        D_result = D(G_result, y_fill_).squeeze()\n",
        "\n",
        "        G_train_loss = BCE_loss(D_result, y_real_)\n",
        "\n",
        "        G_train_loss.backward()\n",
        "        G_optimizer.step()\n",
        "\n",
        "        \n",
        "        G_losses.append(G_train_loss.data)\n",
        "        \n",
        "\n",
        "    epoch_end_time = time.time()\n",
        "    per_epoch_ptime = epoch_end_time - epoch_start_time\n",
        "\n",
        "    print('[%d/%d] - ptime: %.2f, loss_d: %.3f, loss_g: %.3f' % ((epoch + 1), train_epoch, per_epoch_ptime, torch.mean(torch.FloatTensor(D_losses)),\n",
        "                                                              torch.mean(torch.FloatTensor(G_losses))))\n",
        "    fixed_p = root + 'Fixed_results/' + model + str(epoch + 1) + '.png'\n",
        "\n",
        "    show_result((epoch+1), save=True, path=fixed_p)\n",
        "    train_hist['D_losses'].append(torch.mean(torch.FloatTensor(D_losses)))\n",
        "    train_hist['G_losses'].append(torch.mean(torch.FloatTensor(G_losses)))\n",
        "    train_hist['per_epoch_ptimes'].append(per_epoch_ptime)\n",
        "\n",
        "end_time = time.time()\n",
        "total_ptime = end_time - start_time\n",
        "train_hist['total_ptime'].append(total_ptime)\n",
        "\n",
        "show_train_hist(train_hist, save=True, path=root + model + 'train_hist.png')\n",
        "\n",
        "images = []\n",
        "\n",
        "for e in range(train_epoch):\n",
        "    img_name = root + 'Fixed_results/' + model + str(e + 1) + '.png'\n",
        "    images.append(imageio.imread(img_name))\n",
        "imageio.mimsave(root + model + 'generation_animation.gif', images, fps=5)"
      ],
      "execution_count": 7,
      "outputs": [
        {
          "output_type": "stream",
          "text": [
            "training start!\n"
          ],
          "name": "stdout"
        },
        {
          "output_type": "stream",
          "text": [
            "/usr/local/lib/python3.6/dist-packages/torch/nn/functional.py:1351: UserWarning: nn.functional.sigmoid is deprecated. Use torch.sigmoid instead.\n",
            "  warnings.warn(\"nn.functional.sigmoid is deprecated. Use torch.sigmoid instead.\")\n",
            "/usr/local/lib/python3.6/dist-packages/torch/nn/functional.py:1340: UserWarning: nn.functional.tanh is deprecated. Use torch.tanh instead.\n",
            "  warnings.warn(\"nn.functional.tanh is deprecated. Use torch.tanh instead.\")\n"
          ],
          "name": "stderr"
        },
        {
          "output_type": "stream",
          "text": [
            "[1/10] - ptime: 98.80, loss_d: 0.764, loss_g: 3.087\n",
            "[2/10] - ptime: 103.23, loss_d: 0.780, loss_g: 2.378\n",
            "[3/10] - ptime: 106.88, loss_d: 1.103, loss_g: 1.523\n",
            "[4/10] - ptime: 107.56, loss_d: 1.152, loss_g: 1.351\n",
            "[5/10] - ptime: 107.71, loss_d: 1.125, loss_g: 1.332\n",
            "[6/10] - ptime: 107.81, loss_d: 1.053, loss_g: 1.479\n",
            "[7/10] - ptime: 107.93, loss_d: 0.938, loss_g: 1.678\n",
            "[8/10] - ptime: 107.87, loss_d: 0.795, loss_g: 1.926\n",
            "[9/10] - ptime: 107.97, loss_d: 0.664, loss_g: 2.198\n",
            "[10/10] - ptime: 107.88, loss_d: 0.578, loss_g: 2.500\n"
          ],
          "name": "stdout"
        },
        {
          "output_type": "display_data",
          "data": {
            "image/png": "[encoded data removed]",
            "text/plain": [
              "<Figure size 432x288 with 1 Axes>"
            ]
          },
          "metadata": {
            "tags": [],
            "needs_background": "light"
          }
        }
      ]
    },
    {
      "cell_type": "markdown",
      "metadata": {
        "id": "aOxHlO_4IyKo",
        "colab_type": "text"
      },
      "source": [
        "# Define the noise and label to generate the result."
      ]
    },
    {
      "cell_type": "code",
      "metadata": {
        "id": "3q8D6BVgebQ9",
        "colab_type": "code",
        "outputId": "2c121a52-144a-46f8-e2e4-a7b2849ba3e3",
        "colab": {
          "base_uri": "https://localhost:8080/",
          "height": 72
        }
      },
      "source": [
        "# fixed noise & label\n",
        "fixed_z_2 = torch.randn(10, 100)\n",
        "fixed_z_2 = fixed_z_2.view(-1, 100, 1, 1)\n",
        "\n",
        "one_hot = [[1,0,0,0,0,0,0,0,0,0],\n",
        "           [0,1,0,0,0,0,0,0,0,0],\n",
        "           [0,0,1,0,0,0,0,0,0,0],\n",
        "           [0,0,0,1,0,0,0,0,0,0],\n",
        "           [0,0,0,0,1,0,0,0,0,0],\n",
        "           [0,0,0,0,0,1,0,0,0,0],\n",
        "           [0,0,0,0,0,0,1,0,0,0],\n",
        "           [0,0,0,0,0,0,0,1,0,0],\n",
        "           [0,0,0,0,0,0,0,0,1,0],\n",
        "           [0,0,0,0,0,0,0,0,0,1]]\n",
        "\n",
        "\n",
        "one_hot_arr = np.array(one_hot)\n",
        "\n",
        "fixed_y_label_2 = torch.from_numpy(one_hot_arr)\n",
        "\n",
        "fixed_y_label_2 = fixed_y_label_2.view(-1, 10, 1, 1)\n",
        "\n",
        "fixed_y_label_2 = fixed_y_label_2.float()\n",
        "fixed_z_2 = fixed_z_2.float()\n",
        "\n",
        "fixed_z_2, fixed_y_label_2 = Variable(fixed_z_2.cuda()), Variable(fixed_y_label_2.cuda())\n",
        "\n",
        "def show_result_2(save_name='test', show = False, save = False, isFix=False):\n",
        "       \n",
        "    G.eval()\n",
        "\n",
        "    with torch.no_grad():\n",
        "        test_images = G(fixed_z_2, fixed_y_label_2)\n",
        "\n",
        "    G.train()\n",
        "    \n",
        "    pic = to_img(test_images.cpu().data)\n",
        "    img_path= './cDCGAN_results/output_{}.png'.format(save_name)\n",
        "    save_image(pic,img_path)\n",
        "    \n",
        "def to_img(x):\n",
        "    x = 0.5 * (x + 1)\n",
        "    x = x.clamp(0, 1)\n",
        "    x = x.view(-1, 1, 32, 32)\n",
        "    return x\n",
        "\n",
        "show_result_2()"
      ],
      "execution_count": 8,
      "outputs": [
        {
          "output_type": "stream",
          "text": [
            "/usr/local/lib/python3.6/dist-packages/torch/nn/functional.py:1340: UserWarning: nn.functional.tanh is deprecated. Use torch.tanh instead.\n",
            "  warnings.warn(\"nn.functional.tanh is deprecated. Use torch.tanh instead.\")\n"
          ],
          "name": "stderr"
        }
      ]
    }
  ]
}